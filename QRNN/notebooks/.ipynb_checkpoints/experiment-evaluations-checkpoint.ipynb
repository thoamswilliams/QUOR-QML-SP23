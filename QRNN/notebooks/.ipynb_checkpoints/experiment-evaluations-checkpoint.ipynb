{
 "cells": [
  {
   "cell_type": "markdown",
   "metadata": {},
   "source": [
    "# Test Set Evaluations for all Experiments"
   ]
  },
  {
   "cell_type": "markdown",
   "metadata": {},
   "source": [
    "## Loading Trained Models and Evaluation Code"
   ]
  },
  {
   "cell_type": "code",
   "execution_count": 1,
   "metadata": {},
   "outputs": [],
   "source": [
    "import RVQE\n",
    "import torch\n",
    "torch.set_num_threads(2)\n",
    "\n",
    "from math import sqrt"
   ]
  },
  {
   "cell_type": "code",
   "execution_count": 2,
   "metadata": {},
   "outputs": [],
   "source": [
    "# mock definitions\n",
    "command_train = None\n",
    "command_resume = None"
   ]
  },
  {
   "cell_type": "code",
   "execution_count": 3,
   "metadata": {},
   "outputs": [],
   "source": [
    "def strip_module_prefix_from_state_dict(state_dict: dict) -> dict:\n",
    "    return {\n",
    "        key[7:]: value\n",
    "        for key, value in state_dict.items()\n",
    "    }\n",
    "\n",
    "def load_model_and_dataset(path: str) -> (RVQE.model.RVQE, RVQE.datasets.DataFactory):\n",
    "    store = torch.load(path)\n",
    "    \n",
    "    original_args = store[\"_original_args\"]\n",
    "    dataset = RVQE.datasets.all_datasets[original_args.dataset](0, **vars(original_args))\n",
    "    model = RVQE.model.RVQE(\n",
    "        workspace_size=original_args.workspace,\n",
    "        input_size=dataset.input_width,\n",
    "        stages=original_args.stages,\n",
    "        order=original_args.order,\n",
    "        degree=original_args.degree,\n",
    "        bias=original_args.initial_bias,\n",
    "    )\n",
    "    model.load_state_dict(strip_module_prefix_from_state_dict(store[\"model_state_dict\"]))\n",
    "    model.eval()\n",
    "    \n",
    "    return model, dataset"
   ]
  },
  {
   "cell_type": "code",
   "execution_count": 4,
   "metadata": {},
   "outputs": [],
   "source": [
    "def test_model(model: RVQE.model.RVQE, dataset: RVQE.datasets.DataFactory, *, batches: int) -> dict:\n",
    "    rates = []\n",
    "    for _ in range(batches):\n",
    "        sentences, targets = dataset.next_batch(0, RVQE.datasets.TrainingStage.TEST)\n",
    "        measured_probs, measured_sequences, min_postsel_prob = model(sentences, targets, postselect_measurement=dataset.ignore_output_at_step)\n",
    "        rates.append(RVQE.data.character_error_rate(\n",
    "            dataset.filter(measured_sequences, dim_sequence=1),\n",
    "            dataset.filter(RVQE.data.skip_first(targets), dim_sequence=1)\n",
    "        ))\n",
    "    rates = torch.stack(rates)\n",
    "    return {\n",
    "        \"mean\": rates.mean(),\n",
    "        \"std\": rates.std() / sqrt(len(rates))  # standard deviation of the mean\n",
    "    }"
   ]
  },
  {
   "cell_type": "code",
   "execution_count": null,
   "metadata": {},
   "outputs": [],
   "source": []
  },
  {
   "cell_type": "code",
   "execution_count": null,
   "metadata": {},
   "outputs": [],
   "source": []
  },
  {
   "cell_type": "markdown",
   "metadata": {},
   "source": [
    "## MNIST 0, 1"
   ]
  },
  {
   "cell_type": "code",
   "execution_count": 10,
   "metadata": {},
   "outputs": [
    {
     "name": "stdout",
     "output_type": "stream",
     "text": [
      "checkpoint--experiment-mnist01-35557-mnist01--6c0e97--2020-05-28--05-27-44.tar\n",
      "checkpoint--experiment-mnist01-35557-mnist01--6c0e97--2020-05-28--09-47-01.tar\n",
      "checkpoint--experiment-mnist01-35675-mnist01--81f3e3--2020-05-28--07-18-38.tar\n",
      "checkpoint--experiment-mnist01-35675-mnist01--81f3e3--2020-05-28--08-40-54.tar\n"
     ]
    }
   ],
   "source": [
    "!ls -t results/best/mnist01"
   ]
  },
  {
   "cell_type": "code",
   "execution_count": 6,
   "metadata": {},
   "outputs": [],
   "source": [
    "model, dataset = load_model_and_dataset(\"../results/best/mnist01/checkpoint--experiment-mnist01-35557-mnist01--6c0e97--2020-05-28--09-47-01.tar\")"
   ]
  },
  {
   "cell_type": "code",
   "execution_count": 12,
   "metadata": {},
   "outputs": [
    {
     "data": {
      "text/plain": [
       "{'mean': tensor(0.0140, dtype=torch.float64),\n",
       " 'std': tensor(0.0040, dtype=torch.float64)}"
      ]
     },
     "execution_count": 12,
     "metadata": {},
     "output_type": "execute_result"
    }
   ],
   "source": [
    "test_model(model, dataset, batches=10)"
   ]
  },
  {
   "cell_type": "code",
   "execution_count": 13,
   "metadata": {},
   "outputs": [],
   "source": [
    "model, dataset = load_model_and_dataset(\"../results/best/mnist01/checkpoint--experiment-mnist01-35675-mnist01--81f3e3--2020-05-28--08-40-54.tar\")"
   ]
  },
  {
   "cell_type": "code",
   "execution_count": 14,
   "metadata": {},
   "outputs": [
    {
     "data": {
      "text/plain": [
       "{'mean': tensor(0.0140, dtype=torch.float64),\n",
       " 'std': tensor(0.0048, dtype=torch.float64)}"
      ]
     },
     "execution_count": 14,
     "metadata": {},
     "output_type": "execute_result"
    }
   ],
   "source": [
    "test_model(model, dataset, batches=10)"
   ]
  },
  {
   "cell_type": "code",
   "execution_count": null,
   "metadata": {},
   "outputs": [],
   "source": []
  },
  {
   "cell_type": "code",
   "execution_count": null,
   "metadata": {},
   "outputs": [],
   "source": []
  },
  {
   "cell_type": "markdown",
   "metadata": {},
   "source": [
    "## MNIST 3, 6"
   ]
  },
  {
   "cell_type": "code",
   "execution_count": 15,
   "metadata": {},
   "outputs": [
    {
     "name": "stdout",
     "output_type": "stream",
     "text": [
      "checkpoint--experiment-mnist36-23407-mnist36-ds--c6d15f--2020-05-29--09-17-52.tar\n",
      "checkpoint--experiment-mnist36-23407-mnist36-ds--c6d15f--2020-05-29--09-23-00.tar\n",
      "checkpoint--experiment-mnist36-24830-mnist36-ds--b82b01--2020-05-29--00-20-14.tar\n",
      "checkpoint--experiment-mnist36-24830-mnist36-ds--b82b01--2020-05-29--02-24-23.tar\n",
      "checkpoint--experiment-mnist36-88743-mnist36-ds--22bb4f--2020-05-29--09-11-08.tar\n",
      "checkpoint--experiment-mnist36-88743-mnist36-ds--22bb4f--2020-05-29--09-15-41.tar\n"
     ]
    }
   ],
   "source": [
    "!ls -t results/best/mnist36"
   ]
  },
  {
   "cell_type": "code",
   "execution_count": 16,
   "metadata": {},
   "outputs": [],
   "source": [
    "model, dataset = load_model_and_dataset(\"../results/best/mnist36/checkpoint--experiment-mnist36-23407-mnist36-ds--c6d15f--2020-05-29--09-17-52.tar\")"
   ]
  },
  {
   "cell_type": "code",
   "execution_count": 17,
   "metadata": {},
   "outputs": [
    {
     "data": {
      "text/plain": [
       "{'mean': tensor(0.1030, dtype=torch.float64),\n",
       " 'std': tensor(0.0062, dtype=torch.float64)}"
      ]
     },
     "execution_count": 17,
     "metadata": {},
     "output_type": "execute_result"
    }
   ],
   "source": [
    "test_model(model, dataset, batches=10)"
   ]
  },
  {
   "cell_type": "code",
   "execution_count": 18,
   "metadata": {},
   "outputs": [],
   "source": [
    "model, dataset = load_model_and_dataset(\"../results/best/mnist36/checkpoint--experiment-mnist36-24830-mnist36-ds--b82b01--2020-05-29--00-20-14.tar\")"
   ]
  },
  {
   "cell_type": "code",
   "execution_count": 19,
   "metadata": {},
   "outputs": [
    {
     "data": {
      "text/plain": [
       "{'mean': tensor(0.1100, dtype=torch.float64),\n",
       " 'std': tensor(0.0089, dtype=torch.float64)}"
      ]
     },
     "execution_count": 19,
     "metadata": {},
     "output_type": "execute_result"
    }
   ],
   "source": [
    "test_model(model, dataset, batches=10)"
   ]
  },
  {
   "cell_type": "code",
   "execution_count": 23,
   "metadata": {},
   "outputs": [],
   "source": [
    "model, dataset = load_model_and_dataset(\"../results/best/mnist36/checkpoint--experiment-mnist36-88743-mnist36-ds--22bb4f--2020-05-29--09-11-08.tar\")"
   ]
  },
  {
   "cell_type": "code",
   "execution_count": 24,
   "metadata": {},
   "outputs": [
    {
     "data": {
      "text/plain": [
       "{'mean': tensor(0.1043, dtype=torch.float64),\n",
       " 'std': tensor(0.0055, dtype=torch.float64)}"
      ]
     },
     "execution_count": 24,
     "metadata": {},
     "output_type": "execute_result"
    }
   ],
   "source": [
    "test_model(model, dataset, batches=30)"
   ]
  },
  {
   "cell_type": "code",
   "execution_count": null,
   "metadata": {},
   "outputs": [],
   "source": []
  },
  {
   "cell_type": "markdown",
   "metadata": {},
   "source": [
    "## MNIST All Digits"
   ]
  },
  {
   "cell_type": "code",
   "execution_count": 71,
   "metadata": {},
   "outputs": [
    {
     "name": "stdout",
     "output_type": "stream",
     "text": [
      "checkpoint--experiment-pool-mnist-tsne-d2-r5-27489-mnist-tsne-d2-r5--0fed81--2020-06-02--00-43-51.tar\n",
      "checkpoint--experiment-pool-mnist-tsne-d2-r5-31509-mnist-tsne-d2-r5--f7cb3b--2020-06-02--14-25-29.tar\n",
      "checkpoint--experiment-pool-mnist-tsne-d2-r5-25969-mnist-tsne-d2-r5--7e2c9e--2020-06-02--11-06-52.tar\n"
     ]
    }
   ],
   "source": [
    "!ls -t results/best/mnist-tsne"
   ]
  },
  {
   "cell_type": "code",
   "execution_count": 72,
   "metadata": {},
   "outputs": [],
   "source": [
    "model, dataset = load_model_and_dataset(\"../results/best/mnist-tsne/checkpoint--experiment-pool-mnist-tsne-d2-r5-25969-mnist-tsne-d2-r5--7e2c9e--2020-06-02--11-06-52.tar\")"
   ]
  },
  {
   "cell_type": "code",
   "execution_count": 68,
   "metadata": {},
   "outputs": [
    {
     "data": {
      "text/plain": [
       "{'mean': tensor(0.0541, dtype=torch.float64),\n",
       " 'std': tensor(0.0040, dtype=torch.float64)}"
      ]
     },
     "execution_count": 68,
     "metadata": {},
     "output_type": "execute_result"
    }
   ],
   "source": [
    "test_model(model, dataset, batches=10)"
   ]
  },
  {
   "cell_type": "code",
   "execution_count": null,
   "metadata": {},
   "outputs": [],
   "source": []
  },
  {
   "cell_type": "code",
   "execution_count": null,
   "metadata": {},
   "outputs": [],
   "source": []
  },
  {
   "cell_type": "markdown",
   "metadata": {},
   "source": [
    "## MNIST Generative"
   ]
  },
  {
   "cell_type": "code",
   "execution_count": 5,
   "metadata": {},
   "outputs": [],
   "source": [
    "import matplotlib.pyplot as plt\n",
    "from glob import glob"
   ]
  },
  {
   "cell_type": "code",
   "execution_count": 6,
   "metadata": {},
   "outputs": [
    {
     "name": "stdout",
     "output_type": "stream",
     "text": [
      "checkpoint--experiment-mnist01-93806-mnist01-gen--9be880--2020-05-22--23-15-50.tar\n",
      "checkpoint--experiment-mnist01-87583-mnist01-gen--ba1adb--2020-05-23--02-55-33.tar\n",
      "checkpoint--experiment-mnist01-83502-mnist01-gen--7125e7--2020-05-23--08-28-58.tar\n",
      "checkpoint--experiment-mnist01-83224-mnist01-gen--52d741--2020-05-23--11-38-51.tar\n",
      "checkpoint--experiment-mnist01-78119-mnist01-gen--17ee45--2020-05-22--23-45-58.tar\n",
      "checkpoint--experiment-mnist01-76720-mnist01-gen--40dbb3--2020-05-23--02-25-50.tar\n",
      "checkpoint--experiment-mnist01-75343-mnist01-gen--58d805--2020-05-23--10-49-35.tar\n",
      "checkpoint--experiment-mnist01-74155-mnist01-gen--85ae5a--2020-05-22--23-05-03.tar\n",
      "checkpoint--experiment-mnist01-71350-mnist01-gen--947db9--2020-05-23--12-44-39.tar\n",
      "checkpoint--experiment-mnist01-69520-mnist01-gen--4a3e2b--2020-05-23--11-18-56.tar\n",
      "checkpoint--experiment-mnist01-65123-mnist01-gen--f037ed--2020-05-23--03-25-15.tar\n",
      "checkpoint--experiment-mnist01-64490-mnist01-gen--2d4ae9--2020-05-23--08-57-51.tar\n",
      "checkpoint--experiment-mnist01-63763-mnist01-gen--57cbdc--2020-05-23--12-57-57.tar\n",
      "checkpoint--experiment-mnist01-62339-mnist01-gen--1b3af5--2020-05-23--08-40-00.tar\n",
      "checkpoint--experiment-mnist01-54785-mnist01-gen--d78b97--2020-05-23--02-15-16.tar\n",
      "checkpoint--experiment-mnist01-52495-mnist01-gen--fc63cb--2020-05-23--14-34-49.tar\n",
      "checkpoint--experiment-mnist01-51801-mnist01-gen--bde9e0--2020-05-23--10-42-32.tar\n",
      "checkpoint--experiment-mnist01-51422-mnist01-gen--f3d98b--2020-05-23--08-59-59.tar\n",
      "checkpoint--experiment-mnist01-47611-mnist01-gen--a788f2--2020-05-23--11-52-33.tar\n",
      "checkpoint--experiment-mnist01-47253-mnist01-gen--9eb50f--2020-05-23--16-22-30.tar\n",
      "checkpoint--experiment-mnist01-46386-mnist01-gen--9f74e7--2020-05-23--01-09-14.tar\n",
      "checkpoint--experiment-mnist01-40797-mnist01-gen--5a42c0--2020-05-22--19-14-33.tar\n",
      "checkpoint--experiment-mnist01-38358-mnist01-gen--8e57f0--2020-05-23--08-08-14.tar\n",
      "checkpoint--experiment-mnist01-35675-mnist01-gen--96b77c--2020-05-23--06-38-09.tar\n",
      "checkpoint--experiment-mnist01-35557-mnist01-gen--f7a984--2020-05-23--04-52-28.tar\n",
      "checkpoint--experiment-mnist01-28847-mnist01-gen--246e72--2020-05-23--02-35-27.tar\n",
      "checkpoint--experiment-mnist01-28722-mnist01-gen--e680c6--2020-05-23--02-02-18.tar\n",
      "checkpoint--experiment-mnist01-23424-mnist01-gen--b18d9f--2020-05-23--15-55-41.tar\n",
      "checkpoint--experiment-mnist01-19342-mnist01-gen--dc526c--2020-05-23--00-53-29.tar\n",
      "checkpoint--experiment-mnist01-17796-mnist01-gen--b7f88c--2020-05-23--14-20-17.tar\n",
      "checkpoint--experiment-mnist-gen-20004-mnist01-gen--004ff1--2020-05-22--17-20-59.tar\n",
      "checkpoint--experiment-mnist-gen-20003-mnist01-gen--bee13c--2020-05-22--16-19-39.tar\n",
      "checkpoint--experiment-mnist-gen-20002-mnist01-gen--c9147c--2020-05-22--16-10-26.tar\n",
      "checkpoint--experiment-mnist-gen-20001-mnist01-gen--a7fd5c--2020-05-22--16-18-07.tar\n"
     ]
    }
   ],
   "source": [
    "!ls -t results/best/mnist-gen"
   ]
  },
  {
   "cell_type": "code",
   "execution_count": 18,
   "metadata": {},
   "outputs": [],
   "source": [
    "def show_images(images: list, filename: str):\n",
    "    n = len(images)\n",
    "    fig = plt.figure()\n",
    "        \n",
    "    for i in range(n):\n",
    "        # Debug, plot figure\n",
    "        ax = fig.add_subplot(1, n, i + 1)\n",
    "        ax.set_xticks([])\n",
    "        ax.set_yticks([])\n",
    "        ax.imshow(images[i], cmap=\"gray\", vmin=0, vmax=2)\n",
    "\n",
    "    plt.show(block=True)\n",
    "    fig.savefig(filename)"
   ]
  },
  {
   "cell_type": "code",
   "execution_count": 19,
   "metadata": {},
   "outputs": [],
   "source": [
    "def toimage(measured_seq):\n",
    "    A, B = measured_seq.T\n",
    "    A = torch.cat([torch.zeros(1), A.float()]).reshape(10, 10)\n",
    "    B = torch.cat([torch.zeros(1), B.float()]).reshape(10, 10).T\n",
    "    \n",
    "    return A + B\n",
    "\n",
    "def gen_model(model: RVQE.model.RVQE, dataset: RVQE.datasets.DataFactory, *, samples: int) -> dict:\n",
    "    seqs = []\n",
    "    for s in range(samples):\n",
    "        sentences, targets = dataset.next_batch(0, RVQE.datasets.TrainingStage.TEST)\n",
    "        \n",
    "        # up front are 0s\n",
    "        if s % 2 == 0:\n",
    "            sentences = sentences[:1]\n",
    "            targets = targets[:1]\n",
    "        else:\n",
    "            sentences = sentences[-1:]\n",
    "            targets = targets[-1:]\n",
    "            \n",
    "        _, measured_sequences, _ = model(sentences, targets, postselect_measurement=dataset.ignore_output_at_step)\n",
    "        seqs.append(toimage(measured_sequences[0]))\n",
    "        \n",
    "    return seqs"
   ]
  },
  {
   "cell_type": "code",
   "execution_count": 21,
   "metadata": {},
   "outputs": [
    {
     "name": "stdout",
     "output_type": "stream",
     "text": [
      "results/best/mnist-gen/checkpoint--experiment-mnist01-83224-mnist01-gen--52d741--2020-05-23--11-38-51.tar\n"
     ]
    },
    {
     "data": {
      "image/png": "[encoded data removed]",
      "text/plain": [
       "<Figure size 432x288 with 8 Axes>"
      ]
     },
     "metadata": {},
     "output_type": "display_data"
    },
    {
     "name": "stdout",
     "output_type": "stream",
     "text": [
      "results/best/mnist-gen/checkpoint--experiment-mnist01-62339-mnist01-gen--1b3af5--2020-05-23--08-40-00.tar\n"
     ]
    },
    {
     "data": {
      "image/png": "[encoded data removed]",
      "text/plain": [
       "<Figure size 432x288 with 8 Axes>"
      ]
     },
     "metadata": {},
     "output_type": "display_data"
    },
    {
     "name": "stdout",
     "output_type": "stream",
     "text": [
      "results/best/mnist-gen/checkpoint--experiment-mnist01-23424-mnist01-gen--b18d9f--2020-05-23--15-55-41.tar\n"
     ]
    },
    {
     "data": {
      "image/png": "[encoded data removed]",
      "text/plain": [
       "<Figure size 432x288 with 8 Axes>"
      ]
     },
     "metadata": {},
     "output_type": "display_data"
    },
    {
     "name": "stdout",
     "output_type": "stream",
     "text": [
      "results/best/mnist-gen/checkpoint--experiment-mnist01-40797-mnist01-gen--5a42c0--2020-05-22--19-14-33.tar\n"
     ]
    },
    {
     "data": {
      "image/png": "[encoded data removed]",
      "text/plain": [
       "<Figure size 432x288 with 8 Axes>"
      ]
     },
     "metadata": {},
     "output_type": "display_data"
    },
    {
     "name": "stdout",
     "output_type": "stream",
     "text": [
      "results/best/mnist-gen/checkpoint--experiment-mnist01-64490-mnist01-gen--2d4ae9--2020-05-23--08-57-51.tar\n"
     ]
    },
    {
     "data": {
      "image/png": "[encoded data removed]",
      "text/plain": [
       "<Figure size 432x288 with 8 Axes>"
      ]
     },
     "metadata": {},
     "output_type": "display_data"
    },
    {
     "name": "stdout",
     "output_type": "stream",
     "text": [
      "results/best/mnist-gen/checkpoint--experiment-mnist-gen-20001-mnist01-gen--a7fd5c--2020-05-22--16-18-07.tar\n"
     ]
    },
    {
     "data": {
      "image/png": "[encoded data removed]",
      "text/plain": [
       "<Figure size 432x288 with 8 Axes>"
      ]
     },
     "metadata": {},
     "output_type": "display_data"
    },
    {
     "name": "stdout",
     "output_type": "stream",
     "text": [
      "results/best/mnist-gen/checkpoint--experiment-mnist-gen-20002-mnist01-gen--c9147c--2020-05-22--16-10-26.tar\n"
     ]
    },
    {
     "data": {
      "image/png": "[encoded data removed]",
      "text/plain": [
       "<Figure size 432x288 with 8 Axes>"
      ]
     },
     "metadata": {},
     "output_type": "display_data"
    },
    {
     "name": "stdout",
     "output_type": "stream",
     "text": [
      "results/best/mnist-gen/checkpoint--experiment-mnist01-47611-mnist01-gen--a788f2--2020-05-23--11-52-33.tar\n"
     ]
    },
    {
     "data": {
      "image/png": "[encoded data removed]",
      "text/plain": [
       "<Figure size 432x288 with 8 Axes>"
      ]
     },
     "metadata": {},
     "output_type": "display_data"
    },
    {
     "name": "stdout",
     "output_type": "stream",
     "text": [
      "results/best/mnist-gen/checkpoint--experiment-mnist01-28847-mnist01-gen--246e72--2020-05-23--02-35-27.tar\n"
     ]
    },
    {
     "data": {
      "image/png": "[encoded data removed]",
      "text/plain": [
       "<Figure size 432x288 with 8 Axes>"
      ]
     },
     "metadata": {},
     "output_type": "display_data"
    },
    {
     "name": "stdout",
     "output_type": "stream",
     "text": [
      "results/best/mnist-gen/checkpoint--experiment-mnist01-83502-mnist01-gen--7125e7--2020-05-23--08-28-58.tar\n"
     ]
    },
    {
     "data": {
      "image/png": "[encoded data removed]",
      "text/plain": [
       "<Figure size 432x288 with 8 Axes>"
      ]
     },
     "metadata": {},
     "output_type": "display_data"
    },
    {
     "name": "stdout",
     "output_type": "stream",
     "text": [
      "results/best/mnist-gen/checkpoint--experiment-mnist01-65123-mnist01-gen--f037ed--2020-05-23--03-25-15.tar\n"
     ]
    },
    {
     "data": {
      "image/png": "[encoded data removed]",
      "text/plain": [
       "<Figure size 432x288 with 8 Axes>"
      ]
     },
     "metadata": {},
     "output_type": "display_data"
    },
    {
     "name": "stdout",
     "output_type": "stream",
     "text": [
      "results/best/mnist-gen/checkpoint--experiment-mnist01-17796-mnist01-gen--b7f88c--2020-05-23--14-20-17.tar\n"
     ]
    },
    {
     "data": {
      "image/png": "[encoded data removed]",
      "text/plain": [
       "<Figure size 432x288 with 8 Axes>"
      ]
     },
     "metadata": {},
     "output_type": "display_data"
    },
    {
     "name": "stdout",
     "output_type": "stream",
     "text": [
      "results/best/mnist-gen/checkpoint--experiment-mnist01-51801-mnist01-gen--bde9e0--2020-05-23--10-42-32.tar\n"
     ]
    },
    {
     "data": {
      "image/png": "[encoded data removed]",
      "text/plain": [
       "<Figure size 432x288 with 8 Axes>"
      ]
     },
     "metadata": {},
     "output_type": "display_data"
    },
    {
     "name": "stdout",
     "output_type": "stream",
     "text": [
      "results/best/mnist-gen/checkpoint--experiment-mnist01-74155-mnist01-gen--85ae5a--2020-05-22--23-05-03.tar\n"
     ]
    },
    {
     "data": {
      "image/png": "[encoded data removed]",
      "text/plain": [
       "<Figure size 432x288 with 8 Axes>"
      ]
     },
     "metadata": {},
     "output_type": "display_data"
    },
    {
     "name": "stdout",
     "output_type": "stream",
     "text": [
      "results/best/mnist-gen/checkpoint--experiment-mnist01-54785-mnist01-gen--d78b97--2020-05-23--02-15-16.tar\n"
     ]
    },
    {
     "data": {
      "image/png": "[encoded data removed]",
      "text/plain": [
       "<Figure size 432x288 with 8 Axes>"
      ]
     },
     "metadata": {},
     "output_type": "display_data"
    },
    {
     "name": "stdout",
     "output_type": "stream",
     "text": [
      "results/best/mnist-gen/checkpoint--experiment-mnist-gen-20004-mnist01-gen--004ff1--2020-05-22--17-20-59.tar\n"
     ]
    },
    {
     "data": {
      "image/png": "[encoded data removed]",
      "text/plain": [
       "<Figure size 432x288 with 8 Axes>"
      ]
     },
     "metadata": {},
     "output_type": "display_data"
    },
    {
     "name": "stdout",
     "output_type": "stream",
     "text": [
      "results/best/mnist-gen/checkpoint--experiment-mnist01-69520-mnist01-gen--4a3e2b--2020-05-23--11-18-56.tar\n"
     ]
    },
    {
     "data": {
      "image/png": "[encoded data removed]",
      "text/plain": [
       "<Figure size 432x288 with 8 Axes>"
      ]
     },
     "metadata": {},
     "output_type": "display_data"
    },
    {
     "name": "stdout",
     "output_type": "stream",
     "text": [
      "results/best/mnist-gen/checkpoint--experiment-mnist01-35675-mnist01-gen--96b77c--2020-05-23--06-38-09.tar\n"
     ]
    },
    {
     "data": {
      "image/png": "[encoded data removed]",
      "text/plain": [
       "<Figure size 432x288 with 8 Axes>"
      ]
     },
     "metadata": {},
     "output_type": "display_data"
    },
    {
     "name": "stdout",
     "output_type": "stream",
     "text": [
      "results/best/mnist-gen/checkpoint--experiment-mnist01-93806-mnist01-gen--9be880--2020-05-22--23-15-50.tar\n"
     ]
    },
    {
     "data": {
      "image/png": "[encoded data removed]",
      "text/plain": [
       "<Figure size 432x288 with 8 Axes>"
      ]
     },
     "metadata": {},
     "output_type": "display_data"
    },
    {
     "name": "stdout",
     "output_type": "stream",
     "text": [
      "results/best/mnist-gen/checkpoint--experiment-mnist01-47253-mnist01-gen--9eb50f--2020-05-23--16-22-30.tar\n"
     ]
    },
    {
     "data": {
      "image/png": "[encoded data removed]",
      "text/plain": [
       "<Figure size 432x288 with 8 Axes>"
      ]
     },
     "metadata": {},
     "output_type": "display_data"
    },
    {
     "name": "stdout",
     "output_type": "stream",
     "text": [
      "results/best/mnist-gen/checkpoint--experiment-mnist-gen-20003-mnist01-gen--bee13c--2020-05-22--16-19-39.tar\n"
     ]
    },
    {
     "data": {
      "image/png": "[encoded data removed]",
      "text/plain": [
       "<Figure size 432x288 with 8 Axes>"
      ]
     },
     "metadata": {},
     "output_type": "display_data"
    },
    {
     "name": "stdout",
     "output_type": "stream",
     "text": [
      "results/best/mnist-gen/checkpoint--experiment-mnist01-52495-mnist01-gen--fc63cb--2020-05-23--14-34-49.tar\n"
     ]
    },
    {
     "data": {
      "image/png": "[encoded data removed]",
      "text/plain": [
       "<Figure size 432x288 with 8 Axes>"
      ]
     },
     "metadata": {},
     "output_type": "display_data"
    },
    {
     "name": "stdout",
     "output_type": "stream",
     "text": [
      "results/best/mnist-gen/checkpoint--experiment-mnist01-35557-mnist01-gen--f7a984--2020-05-23--04-52-28.tar\n"
     ]
    },
    {
     "data": {
      "image/png": "[encoded data removed]",
      "text/plain": [
       "<Figure size 432x288 with 8 Axes>"
      ]
     },
     "metadata": {},
     "output_type": "display_data"
    },
    {
     "name": "stdout",
     "output_type": "stream",
     "text": [
      "results/best/mnist-gen/checkpoint--experiment-mnist01-87583-mnist01-gen--ba1adb--2020-05-23--02-55-33.tar\n"
     ]
    },
    {
     "data": {
      "image/png": "[encoded data removed]",
      "text/plain": [
       "<Figure size 432x288 with 8 Axes>"
      ]
     },
     "metadata": {},
     "output_type": "display_data"
    },
    {
     "name": "stdout",
     "output_type": "stream",
     "text": [
      "results/best/mnist-gen/checkpoint--experiment-mnist01-51422-mnist01-gen--f3d98b--2020-05-23--08-59-59.tar\n"
     ]
    },
    {
     "data": {
      "image/png": "[encoded data removed]",
      "text/plain": [
       "<Figure size 432x288 with 8 Axes>"
      ]
     },
     "metadata": {},
     "output_type": "display_data"
    },
    {
     "name": "stdout",
     "output_type": "stream",
     "text": [
      "results/best/mnist-gen/checkpoint--experiment-mnist01-71350-mnist01-gen--947db9--2020-05-23--12-44-39.tar\n"
     ]
    },
    {
     "data": {
      "image/png": "[encoded data removed]",
      "text/plain": [
       "<Figure size 432x288 with 8 Axes>"
      ]
     },
     "metadata": {},
     "output_type": "display_data"
    },
    {
     "name": "stdout",
     "output_type": "stream",
     "text": [
      "results/best/mnist-gen/checkpoint--experiment-mnist01-46386-mnist01-gen--9f74e7--2020-05-23--01-09-14.tar\n"
     ]
    },
    {
     "data": {
      "image/png": "[encoded data removed]",
      "text/plain": [
       "<Figure size 432x288 with 8 Axes>"
      ]
     },
     "metadata": {},
     "output_type": "display_data"
    },
    {
     "name": "stdout",
     "output_type": "stream",
     "text": [
      "results/best/mnist-gen/checkpoint--experiment-mnist01-75343-mnist01-gen--58d805--2020-05-23--10-49-35.tar\n"
     ]
    },
    {
     "data": {
      "image/png": "[encoded data removed]",
      "text/plain": [
       "<Figure size 432x288 with 8 Axes>"
      ]
     },
     "metadata": {},
     "output_type": "display_data"
    },
    {
     "name": "stdout",
     "output_type": "stream",
     "text": [
      "results/best/mnist-gen/checkpoint--experiment-mnist01-19342-mnist01-gen--dc526c--2020-05-23--00-53-29.tar\n"
     ]
    },
    {
     "data": {
      "image/png": "[encoded data removed]",
      "text/plain": [
       "<Figure size 432x288 with 8 Axes>"
      ]
     },
     "metadata": {},
     "output_type": "display_data"
    },
    {
     "name": "stdout",
     "output_type": "stream",
     "text": [
      "results/best/mnist-gen/checkpoint--experiment-mnist01-63763-mnist01-gen--57cbdc--2020-05-23--12-57-57.tar\n"
     ]
    },
    {
     "data": {
      "image/png": "[encoded data removed]",
      "text/plain": [
       "<Figure size 432x288 with 8 Axes>"
      ]
     },
     "metadata": {},
     "output_type": "display_data"
    },
    {
     "name": "stdout",
     "output_type": "stream",
     "text": [
      "results/best/mnist-gen/checkpoint--experiment-mnist01-78119-mnist01-gen--17ee45--2020-05-22--23-45-58.tar\n"
     ]
    },
    {
     "data": {
      "image/png": "[encoded data removed]",
      "text/plain": [
       "<Figure size 432x288 with 8 Axes>"
      ]
     },
     "metadata": {},
     "output_type": "display_data"
    },
    {
     "name": "stdout",
     "output_type": "stream",
     "text": [
      "results/best/mnist-gen/checkpoint--experiment-mnist01-76720-mnist01-gen--40dbb3--2020-05-23--02-25-50.tar\n"
     ]
    },
    {
     "data": {
      "image/png": "[encoded data removed]",
      "text/plain": [
       "<Figure size 432x288 with 8 Axes>"
      ]
     },
     "metadata": {},
     "output_type": "display_data"
    },
    {
     "name": "stdout",
     "output_type": "stream",
     "text": [
      "results/best/mnist-gen/checkpoint--experiment-mnist01-28722-mnist01-gen--e680c6--2020-05-23--02-02-18.tar\n"
     ]
    },
    {
     "data": {
      "image/png": "[encoded data removed]",
      "text/plain": [
       "<Figure size 432x288 with 8 Axes>"
      ]
     },
     "metadata": {},
     "output_type": "display_data"
    },
    {
     "name": "stdout",
     "output_type": "stream",
     "text": [
      "results/best/mnist-gen/checkpoint--experiment-mnist01-38358-mnist01-gen--8e57f0--2020-05-23--08-08-14.tar\n"
     ]
    },
    {
     "data": {
      "image/png": "[encoded data removed]",
      "text/plain": [
       "<Figure size 432x288 with 8 Axes>"
      ]
     },
     "metadata": {},
     "output_type": "display_data"
    }
   ],
   "source": [
    "for fn in glob(\"../results/best/mnist-gen/*.tar\"):\n",
    "    print(fn)\n",
    "    model, dataset = load_model_and_dataset(fn)\n",
    "    foo = gen_model(model, dataset, samples=8)\n",
    "    show_images(foo, f\"{fn}.pdf\")"
   ]
  },
  {
   "cell_type": "code",
   "execution_count": null,
   "metadata": {},
   "outputs": [],
   "source": []
  }
 ],
 "metadata": {
  "kernelspec": {
   "display_name": "Python 3.8.2 64-bit ('rvqe': conda)",
   "language": "python",
   "name": "python38264bitrvqecondad2f0a40244f0466880e7e0a1d328b6ec"
  },
  "language_info": {
   "codemirror_mode": {
    "name": "ipython",
    "version": 3
   },
   "file_extension": ".py",
   "mimetype": "text/x-python",
   "name": "python",
   "nbconvert_exporter": "python",
   "pygments_lexer": "ipython3",
   "version": "3.8.2"
  }
 },
 "nbformat": 4,
 "nbformat_minor": 4
}
