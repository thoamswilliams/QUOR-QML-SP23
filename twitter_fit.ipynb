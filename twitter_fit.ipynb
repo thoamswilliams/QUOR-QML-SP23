{
 "cells": [
  {
   "cell_type": "code",
   "execution_count": 1,
   "id": "211e1ce8",
   "metadata": {},
   "outputs": [],
   "source": [
    "import os\n",
    "import warnings\n",
    "import numpy as np\n",
    "import pandas as pd\n",
    "import random\n",
    "\n",
    "warnings.filterwarnings('ignore')\n",
    "os.environ['TOKENIZERS_PARALLELISM'] = 'true'"
   ]
  },
  {
   "cell_type": "code",
   "execution_count": 2,
   "id": "17ae594f",
   "metadata": {},
   "outputs": [],
   "source": [
    "import numpy as np\n",
    "\n",
    "BATCH_SIZE = 30\n",
    "EPOCHS = 100\n",
    "SEED = 2"
   ]
  },
  {
   "cell_type": "code",
   "execution_count": 3,
   "id": "fb860fd6",
   "metadata": {},
   "outputs": [
    {
     "data": {
      "text/html": [
       "<div>\n",
       "<style scoped>\n",
       "    .dataframe tbody tr th:only-of-type {\n",
       "        vertical-align: middle;\n",
       "    }\n",
       "\n",
       "    .dataframe tbody tr th {\n",
       "        vertical-align: top;\n",
       "    }\n",
       "\n",
       "    .dataframe thead th {\n",
       "        text-align: right;\n",
       "    }\n",
       "</style>\n",
       "<table border=\"1\" class=\"dataframe\">\n",
       "  <thead>\n",
       "    <tr style=\"text-align: right;\">\n",
       "      <th></th>\n",
       "      <th>Tweets</th>\n",
       "      <th>Score</th>\n",
       "    </tr>\n",
       "  </thead>\n",
       "  <tbody>\n",
       "    <tr>\n",
       "      <th>0</th>\n",
       "      <td>An inspiration in all aspects: Fashion</td>\n",
       "      <td>1</td>\n",
       "    </tr>\n",
       "    <tr>\n",
       "      <th>1</th>\n",
       "      <td>fitness</td>\n",
       "      <td>1</td>\n",
       "    </tr>\n",
       "    <tr>\n",
       "      <th>2</th>\n",
       "      <td>beauty and personality. :)KISSES TheFashionIcon</td>\n",
       "      <td>1</td>\n",
       "    </tr>\n",
       "    <tr>\n",
       "      <th>3</th>\n",
       "      <td>Apka Apna Awam Ka Channel Frankline Tv Aam Adm...</td>\n",
       "      <td>1</td>\n",
       "    </tr>\n",
       "    <tr>\n",
       "      <th>4</th>\n",
       "      <td>Beautiful album from  the greatest unsung guit...</td>\n",
       "      <td>1</td>\n",
       "    </tr>\n",
       "  </tbody>\n",
       "</table>\n",
       "</div>"
      ],
      "text/plain": [
       "                                              Tweets  Score\n",
       "0             An inspiration in all aspects: Fashion      1\n",
       "1                                            fitness      1\n",
       "2    beauty and personality. :)KISSES TheFashionIcon      1\n",
       "3  Apka Apna Awam Ka Channel Frankline Tv Aam Adm...      1\n",
       "4  Beautiful album from  the greatest unsung guit...      1"
      ]
     },
     "execution_count": 3,
     "metadata": {},
     "output_type": "execute_result"
    }
   ],
   "source": [
    "twitter_data_pos = pd.read_csv(\"processedPositive.csv\")\n",
    "#twitter_data_neu = pd.read_csv(\"processedNeutral.csv\")\n",
    "twitter_data_neg = pd.read_csv(\"processedNegative.csv\")\n",
    "\n",
    "all_data = pd.DataFrame()\n",
    "\n",
    "pos_tweets = twitter_data_pos.columns\n",
    "num_pos = pos_tweets.size\n",
    "#neu_tweets = twitter_data_neu.columns\n",
    "#num_neu = neu_tweets.size\n",
    "neg_tweets = twitter_data_neg.columns\n",
    "num_neg = neg_tweets.size\n",
    "\n",
    "all_tweets = pos_tweets.append(neg_tweets)\n",
    "#all_tweets = all_tweets.append(neu_tweets)\n",
    "values = [1 for i in range(num_pos)] + [0 for i in range(num_neg)]\n",
    "#values = values + [0 for i in range(num_neu)]\n",
    "\n",
    "all_data[\"Tweets\"] = all_tweets\n",
    "all_data[\"Score\"] = values\n",
    "all_data.head()"
   ]
  },
  {
   "cell_type": "code",
   "execution_count": 4,
   "id": "0e226305",
   "metadata": {},
   "outputs": [
    {
     "data": {
      "text/plain": [
       "False"
      ]
     },
     "execution_count": 4,
     "metadata": {},
     "output_type": "execute_result"
    }
   ],
   "source": [
    "def less_than_8(string):\n",
    "    if len(string.split()) < 8:\n",
    "        return True\n",
    "    else:\n",
    "        return False\n",
    "less_than_8(\"I am going to the park today and eating food\")"
   ]
  },
  {
   "cell_type": "code",
   "execution_count": 5,
   "id": "b347840c",
   "metadata": {},
   "outputs": [],
   "source": [
    "def is_bad_sentence(string):\n",
    "    bad_sentences = [\"In Melbourne please happy\", \"npo way its in here qqqq\"]\n",
    "    for i in bad_sentences:\n",
    "        if string==i:\n",
    "            return False\n",
    "    return True"
   ]
  },
  {
   "cell_type": "code",
   "execution_count": 6,
   "id": "f03a6d24",
   "metadata": {},
   "outputs": [
    {
     "data": {
      "text/html": [
       "<div>\n",
       "<style scoped>\n",
       "    .dataframe tbody tr th:only-of-type {\n",
       "        vertical-align: middle;\n",
       "    }\n",
       "\n",
       "    .dataframe tbody tr th {\n",
       "        vertical-align: top;\n",
       "    }\n",
       "\n",
       "    .dataframe thead th {\n",
       "        text-align: right;\n",
       "    }\n",
       "</style>\n",
       "<table border=\"1\" class=\"dataframe\">\n",
       "  <thead>\n",
       "    <tr style=\"text-align: right;\">\n",
       "      <th></th>\n",
       "      <th>Tweets</th>\n",
       "      <th>Score</th>\n",
       "    </tr>\n",
       "  </thead>\n",
       "  <tbody>\n",
       "    <tr>\n",
       "      <th>0</th>\n",
       "      <td>An inspiration in all aspects: Fashion</td>\n",
       "      <td>1</td>\n",
       "    </tr>\n",
       "    <tr>\n",
       "      <th>1</th>\n",
       "      <td>fitness</td>\n",
       "      <td>1</td>\n",
       "    </tr>\n",
       "    <tr>\n",
       "      <th>2</th>\n",
       "      <td>beauty and personality. :)KISSES TheFashionIcon</td>\n",
       "      <td>1</td>\n",
       "    </tr>\n",
       "    <tr>\n",
       "      <th>3</th>\n",
       "      <td>Omg he... kissed... him crying with joy</td>\n",
       "      <td>1</td>\n",
       "    </tr>\n",
       "    <tr>\n",
       "      <th>4</th>\n",
       "      <td>thanks happy</td>\n",
       "      <td>1</td>\n",
       "    </tr>\n",
       "    <tr>\n",
       "      <th>...</th>\n",
       "      <td>...</td>\n",
       "      <td>...</td>\n",
       "    </tr>\n",
       "    <tr>\n",
       "      <th>1018</th>\n",
       "      <td>unhappy  they not</td>\n",
       "      <td>0</td>\n",
       "    </tr>\n",
       "    <tr>\n",
       "      <th>1019</th>\n",
       "      <td>i miss so much unhappy</td>\n",
       "      <td>0</td>\n",
       "    </tr>\n",
       "    <tr>\n",
       "      <th>1020</th>\n",
       "      <td>Same unhappy .1</td>\n",
       "      <td>0</td>\n",
       "    </tr>\n",
       "    <tr>\n",
       "      <th>1021</th>\n",
       "      <td>Hi instant message your friend  friend lang</td>\n",
       "      <td>0</td>\n",
       "    </tr>\n",
       "    <tr>\n",
       "      <th>1022</th>\n",
       "      <td>hindi close friend? unhappy</td>\n",
       "      <td>0</td>\n",
       "    </tr>\n",
       "  </tbody>\n",
       "</table>\n",
       "<p>1023 rows × 2 columns</p>\n",
       "</div>"
      ],
      "text/plain": [
       "                                                Tweets  Score\n",
       "0               An inspiration in all aspects: Fashion      1\n",
       "1                                              fitness      1\n",
       "2      beauty and personality. :)KISSES TheFashionIcon      1\n",
       "3              Omg he... kissed... him crying with joy      1\n",
       "4                                         thanks happy      1\n",
       "...                                                ...    ...\n",
       "1018                                unhappy  they not       0\n",
       "1019                           i miss so much unhappy       0\n",
       "1020                                   Same unhappy .1      0\n",
       "1021       Hi instant message your friend  friend lang      0\n",
       "1022                       hindi close friend? unhappy      0\n",
       "\n",
       "[1023 rows x 2 columns]"
      ]
     },
     "execution_count": 6,
     "metadata": {},
     "output_type": "execute_result"
    }
   ],
   "source": [
    "indices = all_data[\"Tweets\"].apply(less_than_8)\n",
    "new_data = all_data.loc[indices].reset_index().drop(\"index\", axis=1)\n",
    "indices = new_data[\"Tweets\"].apply(is_bad_sentence)\n",
    "new_data = new_data.loc[indices].reset_index().drop(\"index\", axis=1)\n",
    "new_data"
   ]
  },
  {
   "cell_type": "code",
   "execution_count": 7,
   "id": "efb432a2",
   "metadata": {},
   "outputs": [
    {
     "data": {
      "text/html": [
       "<div>\n",
       "<style scoped>\n",
       "    .dataframe tbody tr th:only-of-type {\n",
       "        vertical-align: middle;\n",
       "    }\n",
       "\n",
       "    .dataframe tbody tr th {\n",
       "        vertical-align: top;\n",
       "    }\n",
       "\n",
       "    .dataframe thead th {\n",
       "        text-align: right;\n",
       "    }\n",
       "</style>\n",
       "<table border=\"1\" class=\"dataframe\">\n",
       "  <thead>\n",
       "    <tr style=\"text-align: right;\">\n",
       "      <th></th>\n",
       "      <th>Tweets</th>\n",
       "      <th>Score</th>\n",
       "    </tr>\n",
       "  </thead>\n",
       "  <tbody>\n",
       "    <tr>\n",
       "      <th>436</th>\n",
       "      <td>keep loving Deepika</td>\n",
       "      <td>1</td>\n",
       "    </tr>\n",
       "    <tr>\n",
       "      <th>665</th>\n",
       "      <td>Oo crying  // Happy3YearsBraceUnited</td>\n",
       "      <td>0</td>\n",
       "    </tr>\n",
       "    <tr>\n",
       "      <th>854</th>\n",
       "      <td>Definitely my arms unhappy  .13</td>\n",
       "      <td>0</td>\n",
       "    </tr>\n",
       "    <tr>\n",
       "      <th>531</th>\n",
       "      <td>Cleantha</td>\n",
       "      <td>0</td>\n",
       "    </tr>\n",
       "    <tr>\n",
       "      <th>169</th>\n",
       "      <td>Prepare to be inspired! happy</td>\n",
       "      <td>1</td>\n",
       "    </tr>\n",
       "  </tbody>\n",
       "</table>\n",
       "</div>"
      ],
      "text/plain": [
       "                                   Tweets  Score\n",
       "436                  keep loving Deepika       1\n",
       "665  Oo crying  // Happy3YearsBraceUnited      0\n",
       "854       Definitely my arms unhappy  .13      0\n",
       "531                             Cleantha       0\n",
       "169         Prepare to be inspired! happy      1"
      ]
     },
     "execution_count": 7,
     "metadata": {},
     "output_type": "execute_result"
    }
   ],
   "source": [
    "random.seed(11)\n",
    "shuffled = new_data.sample(frac=1)\n",
    "shuffled.head()"
   ]
  },
  {
   "cell_type": "code",
   "execution_count": 8,
   "id": "63e4449f",
   "metadata": {},
   "outputs": [
    {
     "data": {
      "text/html": [
       "<div>\n",
       "<style scoped>\n",
       "    .dataframe tbody tr th:only-of-type {\n",
       "        vertical-align: middle;\n",
       "    }\n",
       "\n",
       "    .dataframe tbody tr th {\n",
       "        vertical-align: top;\n",
       "    }\n",
       "\n",
       "    .dataframe thead th {\n",
       "        text-align: right;\n",
       "    }\n",
       "</style>\n",
       "<table border=\"1\" class=\"dataframe\">\n",
       "  <thead>\n",
       "    <tr style=\"text-align: right;\">\n",
       "      <th></th>\n",
       "      <th>Tweets</th>\n",
       "      <th>Score</th>\n",
       "    </tr>\n",
       "  </thead>\n",
       "  <tbody>\n",
       "    <tr>\n",
       "      <th>436</th>\n",
       "      <td>keep loving Deepika</td>\n",
       "      <td>[1, 0]</td>\n",
       "    </tr>\n",
       "    <tr>\n",
       "      <th>665</th>\n",
       "      <td>Oo crying  // Happy3YearsBraceUnited</td>\n",
       "      <td>[0, 1]</td>\n",
       "    </tr>\n",
       "    <tr>\n",
       "      <th>854</th>\n",
       "      <td>Definitely my arms unhappy  .13</td>\n",
       "      <td>[0, 1]</td>\n",
       "    </tr>\n",
       "    <tr>\n",
       "      <th>531</th>\n",
       "      <td>Cleantha</td>\n",
       "      <td>[0, 1]</td>\n",
       "    </tr>\n",
       "    <tr>\n",
       "      <th>169</th>\n",
       "      <td>Prepare to be inspired! happy</td>\n",
       "      <td>[1, 0]</td>\n",
       "    </tr>\n",
       "  </tbody>\n",
       "</table>\n",
       "</div>"
      ],
      "text/plain": [
       "                                   Tweets   Score\n",
       "436                  keep loving Deepika   [1, 0]\n",
       "665  Oo crying  // Happy3YearsBraceUnited  [0, 1]\n",
       "854       Definitely my arms unhappy  .13  [0, 1]\n",
       "531                             Cleantha   [0, 1]\n",
       "169         Prepare to be inspired! happy  [1, 0]"
      ]
     },
     "execution_count": 8,
     "metadata": {},
     "output_type": "execute_result"
    }
   ],
   "source": [
    "def score_to_array(num):\n",
    "    return [num, 1-num]\n",
    "shuffled[\"Score\"] = shuffled[\"Score\"].apply(score_to_array)\n",
    "shuffled.head()"
   ]
  },
  {
   "cell_type": "code",
   "execution_count": 9,
   "id": "669938c1",
   "metadata": {},
   "outputs": [],
   "source": [
    "train_cutoff = int((0.8 * len(shuffled[\"Tweets\"])) // 1)"
   ]
  },
  {
   "cell_type": "code",
   "execution_count": 10,
   "id": "0055472e",
   "metadata": {},
   "outputs": [],
   "source": [
    "twitter_training = shuffled.iloc[:train_cutoff].copy()\n",
    "twitter_testing = shuffled.iloc[train_cutoff:].copy()"
   ]
  },
  {
   "cell_type": "code",
   "execution_count": 11,
   "id": "399633c0",
   "metadata": {},
   "outputs": [
    {
     "data": {
      "text/plain": [
       "pandas.core.series.Series"
      ]
     },
     "execution_count": 11,
     "metadata": {},
     "output_type": "execute_result"
    }
   ],
   "source": [
    "type(shuffled[\"Tweets\"])"
   ]
  },
  {
   "cell_type": "code",
   "execution_count": 12,
   "id": "6f2d6b43",
   "metadata": {},
   "outputs": [],
   "source": [
    "train_data = list(twitter_training[\"Tweets\"])"
   ]
  },
  {
   "cell_type": "code",
   "execution_count": 13,
   "id": "7890c338",
   "metadata": {},
   "outputs": [],
   "source": [
    "val_data = list(twitter_testing[\"Tweets\"])"
   ]
  },
  {
   "cell_type": "code",
   "execution_count": 14,
   "id": "78217e63",
   "metadata": {},
   "outputs": [],
   "source": [
    "train_labels = list(twitter_training[\"Score\"])\n",
    "val_labels = list(twitter_testing[\"Score\"])"
   ]
  },
  {
   "cell_type": "code",
   "execution_count": 15,
   "id": "3df1255a",
   "metadata": {},
   "outputs": [],
   "source": [
    "val_labels = list(twitter_testing[\"Score\"])"
   ]
  },
  {
   "cell_type": "code",
   "execution_count": 16,
   "id": "9dea89c7",
   "metadata": {},
   "outputs": [
    {
     "name": "stderr",
     "output_type": "stream",
     "text": [
      "Tagging sentences.\n",
      "Parsing tagged sentences.\n",
      "Turning parse trees to diagrams.\n",
      "Tagging sentences.\n",
      "Parsing tagged sentences.\n",
      "Turning parse trees to diagrams.\n"
     ]
    }
   ],
   "source": [
    "from lambeq import BobcatParser\n",
    "\n",
    "parser = BobcatParser(root_cats=('NP', 'N'), verbose='text')\n",
    "\n",
    "raw_train_diagrams = parser.sentences2diagrams(train_data, suppress_exceptions=True)\n",
    "raw_val_diagrams = parser.sentences2diagrams(val_data, suppress_exceptions=True)"
   ]
  },
  {
   "cell_type": "code",
   "execution_count": 18,
   "id": "7ca4fa5d",
   "metadata": {},
   "outputs": [],
   "source": [
    "train_diagrams = [\n",
    "    diagram.normal_form()\n",
    "    for diagram in raw_train_diagrams if diagram is not None\n",
    "]\n",
    "val_diagrams = [\n",
    "    diagram.normal_form()\n",
    "    for diagram in raw_val_diagrams if diagram is not None\n",
    "]\n",
    "\n",
    "train_labels = [\n",
    "    label for (diagram, label)\n",
    "    in zip(raw_train_diagrams, train_labels)\n",
    "    if diagram is not None]\n",
    "val_labels = [\n",
    "    label for (diagram, label)\n",
    "    in zip(raw_val_diagrams, val_labels)\n",
    "    if diagram is not None\n",
    "]"
   ]
  },
  {
   "cell_type": "code",
   "execution_count": 19,
   "id": "f1d65375",
   "metadata": {},
   "outputs": [
    {
     "data": {
      "text/plain": [
       "625"
      ]
     },
     "execution_count": 19,
     "metadata": {},
     "output_type": "execute_result"
    }
   ],
   "source": [
    "len(train_diagrams)"
   ]
  },
  {
   "cell_type": "code",
   "execution_count": 20,
   "id": "d44ccfdb",
   "metadata": {},
   "outputs": [
    {
     "data": {
      "text/plain": [
       "625"
      ]
     },
     "execution_count": 20,
     "metadata": {},
     "output_type": "execute_result"
    }
   ],
   "source": [
    "len(train_labels)"
   ]
  },
  {
   "cell_type": "code",
   "execution_count": 21,
   "id": "c9295be6",
   "metadata": {},
   "outputs": [
    {
     "name": "stdout",
     "output_type": "stream",
     "text": [
      "hawhaw crying  \n",
      "miss you unhappy \n",
      "yes you had smile\n",
      " its texting without looking :)KISSES TheFashionIcon\n",
      "Les videre happy\n",
      " thank you happy\n",
      "77 ? Old Leyland\n",
      "Yeaaaah! Alpha Invitation well received happy\n",
      " you'll be see.1\n",
      "Hellooo.. happy  Lil strait (Daddyy_rat)\n",
      "Noted on this Sir\n",
      "Aww hating that I got sponsored\n",
      "I'm so tired unhappy \n",
      " DM us happy  S.1\n",
      "hey.1\n",
      "THANK YOU happy\n",
      "END OF TRAINING SENTENCES\n",
      "Update: I got in :D\n",
      "You say VUCA\n",
      " Hitches Ride For Final unhappy  \n"
     ]
    }
   ],
   "source": [
    "from lambeq import AtomicType, IQPAnsatz, remove_cups\n",
    "N = AtomicType.NOUN\n",
    "S = AtomicType.SENTENCE\n",
    "P = AtomicType.PREPOSITIONAL_PHRASE\n",
    "PUNC = AtomicType.PUNCTUATION\n",
    "C = AtomicType.CONJUNCTION\n",
    "\n",
    "ansatz = IQPAnsatz({N: 1, S: 0, P:1},\n",
    "                   n_layers=1, n_single_qubit_params=3)\n",
    "\n",
    "train_circuits = []\n",
    "trainlabels = []\n",
    "for i in range(len(train_labels)):\n",
    "    try:\n",
    "        mycircuit = ansatz(remove_cups(train_diagrams[i]))\n",
    "        train_circuits.append(mycircuit)\n",
    "        trainlabels.append(train_labels[i])\n",
    "    except ValueError:\n",
    "        print(train_data[i])\n",
    "print(\"END OF TRAINING SENTENCES\")\n",
    "#test_circuits = [ansatz(remove_cups(diagram)) for diagram in test_diagrams]\n",
    "val_circuits = []\n",
    "vallabels = []\n",
    "for i in range(len(val_diagrams)):\n",
    "    try:\n",
    "        mycircuit = ansatz(remove_cups(val_diagrams[i]))\n",
    "        val_circuits.append(mycircuit)\n",
    "        vallabels.append(val_labels[i])\n",
    "    except ValueError:\n",
    "        print(val_data[i])"
   ]
  },
  {
   "cell_type": "code",
   "execution_count": 22,
   "id": "35c80757",
   "metadata": {},
   "outputs": [],
   "source": [
    "from pytket.extensions.qiskit import AerBackend\n",
    "from lambeq import TketModel\n",
    "\n",
    "all_circuits = train_circuits + val_circuits\n",
    "\n",
    "backend = AerBackend()\n",
    "backend_config = {\n",
    "    'backend': backend,\n",
    "    'compilation': backend.default_compilation_pass(2),\n",
    "    'shots': 8192\n",
    "}\n",
    "\n",
    "model = TketModel.from_diagrams(all_circuits, backend_config=backend_config)"
   ]
  },
  {
   "cell_type": "code",
   "execution_count": 23,
   "id": "0d87547f",
   "metadata": {},
   "outputs": [],
   "source": [
    "from lambeq import BinaryCrossEntropyLoss\n",
    "\n",
    "# Using the builtin binary cross-entropy error from lambeq\n",
    "bce = BinaryCrossEntropyLoss()\n",
    "\n",
    "acc = lambda y_hat, y: np.sum(np.round(y_hat) == y) / len(y) / 2  # half due to double-counting\n",
    "eval_metrics = {\"acc\": acc}"
   ]
  },
  {
   "cell_type": "code",
   "execution_count": 24,
   "id": "3a574219",
   "metadata": {},
   "outputs": [],
   "source": [
    "from lambeq import QuantumTrainer, SPSAOptimizer\n",
    "\n",
    "trainer = QuantumTrainer(\n",
    "    model,\n",
    "    loss_function=bce,\n",
    "    epochs=150,\n",
    "    optimizer=SPSAOptimizer,\n",
    "    optim_hyperparams={'a': 0.05, 'c': 0.06, 'A':0.01*EPOCHS},\n",
    "    evaluate_functions=eval_metrics,\n",
    "    evaluate_on_train=True,\n",
    "    verbose = 'text',\n",
    "    seed=0\n",
    ")"
   ]
  },
  {
   "cell_type": "code",
   "execution_count": 25,
   "id": "29d5214d",
   "metadata": {},
   "outputs": [],
   "source": [
    "from lambeq import Dataset\n",
    "\n",
    "train_dataset = Dataset(\n",
    "            train_circuits,\n",
    "            trainlabels,\n",
    "            batch_size=BATCH_SIZE)\n",
    "\n",
    "val_dataset = Dataset(val_circuits, vallabels, shuffle=False)"
   ]
  },
  {
   "cell_type": "code",
   "execution_count": null,
   "id": "d616ec63",
   "metadata": {},
   "outputs": [],
   "source": [
    "trainer.fit(train_dataset, val_dataset, evaluation_step=1, logging_step=5)"
   ]
  },
  {
   "cell_type": "code",
   "execution_count": null,
   "id": "37c98e1d",
   "metadata": {},
   "outputs": [],
   "source": [
    "import matplotlib.pyplot as plt\n",
    "\n",
    "fig, ((ax_tl, ax_tr), (ax_bl, ax_br)) = plt.subplots(2, 2, sharex=True, sharey='row', figsize=(10, 6))\n",
    "ax_tl.set_title('Training set')\n",
    "ax_tr.set_title('Development set')\n",
    "ax_bl.set_xlabel('Iterations')\n",
    "ax_br.set_xlabel('Iterations')\n",
    "ax_bl.set_ylabel('Accuracy')\n",
    "ax_tl.set_ylabel('Loss')\n",
    "\n",
    "colours = iter(plt.rcParams['axes.prop_cycle'].by_key()['color'])\n",
    "ax_tl.plot(trainer.train_epoch_costs[::10], color=next(colours))\n",
    "ax_bl.plot(trainer.train_results['acc'][::10], color=next(colours))\n",
    "ax_tr.plot(trainer.val_costs[::10], color=next(colours))\n",
    "ax_br.plot(trainer.val_results['acc'][::10], color=next(colours))\n",
    "\n",
    "# print test accuracy\n",
    "test_acc = acc(model(val_circuits), val_labels)\n",
    "print('Validation accuracy:', test_acc.item())"
   ]
  },
  {
   "cell_type": "code",
   "execution_count": null,
   "id": "fa124120",
   "metadata": {},
   "outputs": [],
   "source": []
  },
  {
   "cell_type": "code",
   "execution_count": null,
   "id": "6e3386ce",
   "metadata": {},
   "outputs": [],
   "source": []
  },
  {
   "cell_type": "code",
   "execution_count": null,
   "id": "0c19db69",
   "metadata": {},
   "outputs": [],
   "source": []
  }
 ],
 "metadata": {
  "kernelspec": {
   "display_name": "Python 3 (ipykernel)",
   "language": "python",
   "name": "python3"
  },
  "language_info": {
   "codemirror_mode": {
    "name": "ipython",
    "version": 3
   },
   "file_extension": ".py",
   "mimetype": "text/x-python",
   "name": "python",
   "nbconvert_exporter": "python",
   "pygments_lexer": "ipython3",
   "version": "3.10.11"
  }
 },
 "nbformat": 4,
 "nbformat_minor": 5
}
