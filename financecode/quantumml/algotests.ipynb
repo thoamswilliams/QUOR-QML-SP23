{
 "cells": [
  {
   "cell_type": "code",
   "execution_count": 1,
   "metadata": {},
   "outputs": [],
   "source": [
    "from qiskit.algorithms.optimizers import SLSQP\n",
    "from qiskit.circuit.library import TwoLocal\n",
    "\n",
    "num_qubits = 2\n",
    "ansatz = TwoLocal(num_qubits, \"ry\", \"cz\")\n",
    "optimizer = SLSQP(maxiter=1000)"
   ]
  },
  {
   "cell_type": "code",
   "execution_count": 2,
   "metadata": {},
   "outputs": [
    {
     "data": {
      "image/png": "[encoded data removed]",
      "text/plain": [
       "<Figure size 705.35x200.667 with 1 Axes>"
      ]
     },
     "execution_count": 2,
     "metadata": {},
     "output_type": "execute_result"
    }
   ],
   "source": [
    "ansatz.decompose().draw(\"mpl\", style=\"iqx\")"
   ]
  },
  {
   "cell_type": "code",
   "execution_count": 3,
   "metadata": {},
   "outputs": [],
   "source": [
    "from qiskit.primitives import Estimator\n",
    "\n",
    "estimator = Estimator()"
   ]
  },
  {
   "cell_type": "code",
   "execution_count": 4,
   "metadata": {},
   "outputs": [],
   "source": [
    "from qiskit.algorithms.minimum_eigensolvers import VQE\n",
    "\n",
    "vqe = VQE(estimator, ansatz, optimizer)"
   ]
  },
  {
   "cell_type": "code",
   "execution_count": 5,
   "metadata": {},
   "outputs": [],
   "source": [
    "from qiskit.quantum_info import SparsePauliOp\n",
    "\n",
    "H2_op = SparsePauliOp.from_list([\n",
    "    (\"II\", -1.052373245772859),\n",
    "    (\"IZ\", 0.39793742484318045),\n",
    "    (\"ZI\", -0.39793742484318045),\n",
    "    (\"ZZ\", -0.01128010425623538),\n",
    "    (\"XX\", 0.18093119978423156)\n",
    "])"
   ]
  },
  {
   "cell_type": "code",
   "execution_count": 8,
   "metadata": {},
   "outputs": [
    {
     "name": "stdout",
     "output_type": "stream",
     "text": [
      "{   'aux_operators_evaluated': None,\n",
      "    'cost_function_evals': 95,\n",
      "    'eigenvalue': -1.857275029476464,\n",
      "    'optimal_circuit': <qiskit.circuit.library.n_local.two_local.TwoLocal object at 0x000001C5E36D0BB0>,\n",
      "    'optimal_parameters': {   ParameterVectorElement(θ[1]): 3.642963444202598,\n",
      "                              ParameterVectorElement(θ[0]): 5.6195738657551395,\n",
      "                              ParameterVectorElement(θ[2]): -2.5415749363515365,\n",
      "                              ParameterVectorElement(θ[3]): 3.9685063007443637,\n",
      "                              ParameterVectorElement(θ[4]): -3.496375225269014,\n",
      "                              ParameterVectorElement(θ[5]): -2.92868615854705,\n",
      "                              ParameterVectorElement(θ[6]): -2.0685784559009166,\n",
      "                              ParameterVectorElement(θ[7]): -1.9928102307766413},\n",
      "    'optimal_point': array([ 5.61957387,  3.64296344, -2.54157494,  3.9685063 , -3.49637523,\n",
      "       -2.92868616, -2.06857846, -1.99281023]),\n",
      "    'optimal_value': -1.857275029476464,\n",
      "    'optimizer_evals': None,\n",
      "    'optimizer_result': <qiskit.algorithms.optimizers.optimizer.OptimizerResult object at 0x000001C5E37C06D0>,\n",
      "    'optimizer_time': 0.5319931507110596}\n"
     ]
    }
   ],
   "source": [
    "result = vqe.compute_minimum_eigenvalue(H2_op)\n",
    "print(result)"
   ]
  },
  {
   "cell_type": "code",
   "execution_count": 9,
   "metadata": {},
   "outputs": [
    {
     "name": "stdout",
     "output_type": "stream",
     "text": [
      "{   'aux_operators_evaluated': None,\n",
      "    'cost_function_evals': 200,\n",
      "    'eigenvalue': -1.8574532974510636,\n",
      "    'optimal_circuit': <qiskit.circuit.library.n_local.two_local.TwoLocal object at 0x000001C5E37BDD90>,\n",
      "    'optimal_parameters': {   ParameterVectorElement(θ[1]): 5.301602972868415,\n",
      "                              ParameterVectorElement(θ[0]): -0.6023853762216399,\n",
      "                              ParameterVectorElement(θ[2]): 4.907381989109934,\n",
      "                              ParameterVectorElement(θ[3]): 1.4924109597785924,\n",
      "                              ParameterVectorElement(θ[4]): -4.428431863064398,\n",
      "                              ParameterVectorElement(θ[5]): -3.4785444063722863,\n",
      "                              ParameterVectorElement(θ[6]): -2.6429816134621107,\n",
      "                              ParameterVectorElement(θ[7]): -2.122735079871729},\n",
      "    'optimal_point': array([-0.60238538,  5.30160297,  4.90738199,  1.49241096, -4.42843186,\n",
      "       -3.47854441, -2.64298161, -2.12273508]),\n",
      "    'optimal_value': -1.8574532974510636,\n",
      "    'optimizer_evals': None,\n",
      "    'optimizer_result': <qiskit.algorithms.optimizers.optimizer.OptimizerResult object at 0x000001C5E075B340>,\n",
      "    'optimizer_time': 1.6509604454040527}\n"
     ]
    }
   ],
   "source": [
    "from qiskit.algorithms.optimizers import SPSA\n",
    "\n",
    "estimator = Estimator(options={\"shots\": 1000})\n",
    "\n",
    "vqe.estimator = estimator\n",
    "vqe.optimizer = SPSA(maxiter=100)\n",
    "result = vqe.compute_minimum_eigenvalue(operator=H2_op)\n",
    "print(result)"
   ]
  },
  {
   "cell_type": "code",
   "execution_count": null,
   "metadata": {},
   "outputs": [],
   "source": []
  }
 ],
 "metadata": {
  "kernelspec": {
   "display_name": "base",
   "language": "python",
   "name": "python3"
  },
  "language_info": {
   "codemirror_mode": {
    "name": "ipython",
    "version": 3
   },
   "file_extension": ".py",
   "mimetype": "text/x-python",
   "name": "python",
   "nbconvert_exporter": "python",
   "pygments_lexer": "ipython3",
   "version": "3.9.13"
  },
  "orig_nbformat": 4
 },
 "nbformat": 4,
 "nbformat_minor": 2
}
