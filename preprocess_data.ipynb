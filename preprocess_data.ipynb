{
 "cells": [
  {
   "cell_type": "code",
   "execution_count": 8,
   "id": "987037cd-ac98-4388-a897-476c36c30bc9",
   "metadata": {},
   "outputs": [],
   "source": [
    "import pandas as pd\n",
    "import numpy as np\n",
    "from keras_bert import Tokenizer, get_base_dict"
   ]
  },
  {
   "cell_type": "code",
   "execution_count": 6,
   "id": "ed04a4f8-2c92-46de-977c-5d14bcfa856a",
   "metadata": {},
   "outputs": [],
   "source": [
    "tweets = pd.read_csv('financetweets.csv', delimiter = ';',header = 0)\n",
    "tempsentences = tweets.iloc[:,0].to_numpy()\n",
    "rawsentences = np.split(tempsentences,len(tempsentences))\n",
    "templabels = tweets.iloc[:,1].to_numpy()\n",
    "rawlabels=np.split(templabels,len(templabels))\n",
    "dset = np.concatenate((rawsentences,rawlabels),axis=-1)\n",
    "np.random.shuffle(dset)"
   ]
  },
  {
   "cell_type": "code",
   "execution_count": 48,
   "id": "bfdfa7cc-fe7d-48a9-9ca4-314acc2785a4",
   "metadata": {},
   "outputs": [
    {
     "data": {
      "text/plain": [
       "697"
      ]
     },
     "execution_count": 48,
     "metadata": {},
     "output_type": "execute_result"
    }
   ],
   "source": [
    "adj_dset = [i for i in dset if type(i[0]) is not float and len(i[0].split()) <=5]\n",
    "len(adj_dset)"
   ]
  },
  {
   "cell_type": "code",
   "execution_count": 78,
   "id": "0bbb8c0d-3b87-4893-8bbe-2d10386f919b",
   "metadata": {},
   "outputs": [],
   "source": [
    "data, label = [], []\n",
    "token_dict = {\"\": 0}\n",
    "for sentence, l in adj_dset:\n",
    "    s = []\n",
    "    for word in sentence.split():\n",
    "        if word not in token_dict:\n",
    "            token_dict[word] = len(token_dict)\n",
    "        s.append(token_dict[word])\n",
    "    while len(s) < 5:\n",
    "        s.append(0)\n",
    "    data.append(s)\n",
    "    label.append(l)"
   ]
  },
  {
   "cell_type": "code",
   "execution_count": 79,
   "id": "3b690702-25de-44e3-969d-1a8384f6cbec",
   "metadata": {},
   "outputs": [],
   "source": [
    "data = np.array(data)"
   ]
  },
  {
   "cell_type": "code",
   "execution_count": 82,
   "id": "ce888080-4f7e-4e89-b277-1d249dd735bd",
   "metadata": {},
   "outputs": [],
   "source": [
    "np.savez('data.npz', sentence=data, label=label)"
   ]
  },
  {
   "cell_type": "code",
   "execution_count": 80,
   "id": "e178bcf5-d339-4128-899e-24fe83e6d179",
   "metadata": {
    "tags": []
   },
   "outputs": [
    {
     "data": {
      "text/plain": [
       "1580"
      ]
     },
     "execution_count": 80,
     "metadata": {},
     "output_type": "execute_result"
    }
   ],
   "source": [
    "len(token_dict)"
   ]
  }
 ],
 "metadata": {
  "kernelspec": {
   "display_name": "GNN",
   "language": "python",
   "name": "gnn"
  },
  "language_info": {
   "codemirror_mode": {
    "name": "ipython",
    "version": 3
   },
   "file_extension": ".py",
   "mimetype": "text/x-python",
   "name": "python",
   "nbconvert_exporter": "python",
   "pygments_lexer": "ipython3",
   "version": "3.8.13"
  }
 },
 "nbformat": 4,
 "nbformat_minor": 5
}
