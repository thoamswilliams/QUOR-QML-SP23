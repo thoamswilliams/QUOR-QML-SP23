{
 "cells": [
  {
   "cell_type": "code",
   "execution_count": null,
   "id": "8404c181-919e-4178-a5e2-dcf53edd1928",
   "metadata": {},
   "outputs": [],
   "source": [
    "#!pip install qiskit.aqua\n",
    "#!pip install qiskit==0.31.0\n",
    "# AH: For some reason qiskit has dependency issues so these packages need to be installed"
   ]
  },
  {
   "cell_type": "code",
   "execution_count": 23,
   "id": "eb6ce956-9a72-407f-97a5-ffe89e329df5",
   "metadata": {},
   "outputs": [],
   "source": [
    "import numpy as np\n",
    "import time\n",
    "import os\n",
    "from tqdm import trange\n",
    "import matplotlib.pyplot as plt\n",
    "\n",
    "from qiskit import BasicAer\n",
    "from qiskit import QuantumCircuit\n",
    "from qiskit_machine_learning.algorithms import VQC\n",
    "from qiskit.utils import algorithm_globals\n",
    "from qiskit.circuit import Parameter\n",
    "from qiskit_machine_learning.neural_networks import SamplerQNN, EstimatorQNN\n",
    "from qiskit_machine_learning.connectors import TorchConnector\n",
    "from qiskit.algorithms.optimizers import COBYLA, SPSA\n",
    "from qiskit.circuit.library import TwoLocal, ZZFeatureMap, EfficientSU2\n",
    "\n",
    "\n",
    "import torch\n",
    "from torch.autograd import Function\n",
    "from torch.utils.data import Dataset, DataLoader\n",
    "import torch.optim as optim\n",
    "import torch.nn as nn\n",
    "import torch.nn.functional as F\n",
    "\n",
    "seed = 12345\n",
    "#aqua_globals.random_seed = seed"
   ]
  },
  {
   "cell_type": "markdown",
   "id": "40e8a935-be7a-4fbb-9d49-3b4180f36b60",
   "metadata": {},
   "source": [
    "## Utility Functions"
   ]
  },
  {
   "cell_type": "code",
   "execution_count": 5,
   "id": "59fce80e-ee71-4bd0-8209-d41aabf2075d",
   "metadata": {},
   "outputs": [],
   "source": [
    "class Data(Dataset):\n",
    "    def __init__(self, x, y):\n",
    "        self.data = x\n",
    "        self.label = y\n",
    "        #self.class_map = self.split_to_labels(x, y)\n",
    "    \n",
    "    def split_to_labels(self, data, label):\n",
    "        res = {}\n",
    "        for i in range(len(label)):\n",
    "            if label[i] not in res:\n",
    "                res[label[i]] = []\n",
    "            res[label[i]].append(data[i])\n",
    "\n",
    "        return res\n",
    "\n",
    "    def __len__(self):\n",
    "        return len(self.data)\n",
    "    \n",
    "    def __getitem__(self, idx):\n",
    "        class_name = self.label[idx]\n",
    "        #class_id = self.class_map[class_name]\n",
    "        #img_tensor = torch.from_numpy(img)\n",
    "        #img_tensor = img_tensor.permute(2, 0, 1)\n",
    "        class_id = torch.tensor(class_name)\n",
    "        data_instance = np.array(self.data[idx], dtype=np.float32)\n",
    "        data_tensor = torch.from_numpy(data_instance)\n",
    "        return data_tensor, class_id"
   ]
  },
  {
   "cell_type": "code",
   "execution_count": 55,
   "id": "067d2f2b-7271-401d-a79c-371d3226f43d",
   "metadata": {
    "tags": []
   },
   "outputs": [],
   "source": [
    "class TorchTrainer:\n",
    "    \"\"\"\n",
    "    Trainer for PyTorch models and data\n",
    "    \"\"\"\n",
    "    def __init__(self, model_dir, model,\n",
    "                 num_epochs, batch_size, learning_rate,\n",
    "                 patience, log_freq, val_batch,\n",
    "                 loss_fcn, device=None,\n",
    "                 **kwargs):\n",
    "        \n",
    "        # Define device\n",
    "        if device is None:\n",
    "            device_name = 'cuda' if torch.cuda.is_available() else 'cpu'\n",
    "        else:\n",
    "            device_name = device\n",
    "        print(\">>> Using\", device_name)\n",
    "        device = torch.device(device_name)\n",
    "        self.device = device\n",
    "        \n",
    "        # Load/Create Model\n",
    "        os.makedirs(model_dir, exist_ok=True)\n",
    "        ckpt_dir = os.path.join(model_dir, 'ckpt')\n",
    "        log_data = os.path.join(model_dir, 'log_data.npz')\n",
    "        self.model_dir = model_dir\n",
    "        self.ckpt_dir = ckpt_dir\n",
    "        self.log_data = log_data\n",
    "        \n",
    "        if os.path.exists(ckpt_dir):\n",
    "            print(f\">> Loaded model from {ckpt_dir}\")\n",
    "            self.model = torch.load(ckpt_dir)\n",
    "            self.log_metrics = log_backup = dict(np.load(log_data))\n",
    "            self.tot_steps = log_backup['steps']\n",
    "            self.starting_epoch = log_backup['epochs']\n",
    "        else:\n",
    "            print(f\">>> Creating new model\")\n",
    "            self.model = model.to(device)\n",
    "            #self.model = model()\n",
    "            self.tot_steps = 0\n",
    "            self.starting_epoch = 0\n",
    "            self.log_metrics = {'val_step':[], 'val_epoch': []}\n",
    "        \n",
    "        # Training Hyperparameters\n",
    "        self.num_epochs = num_epochs\n",
    "        self.batch_size = batch_size\n",
    "        self.learning_rate = learning_rate\n",
    "        self.patience = patience\n",
    "        self.log_frequency = log_freq\n",
    "        self.val_batch = val_batch\n",
    "        \n",
    "        # Loss Function\n",
    "        self.loss_fcn = loss_fcn()\n",
    "        \n",
    "    def plot_metric(self, x_name, y_name, \n",
    "                    x_label=None, y_label=None, title=None,\n",
    "                    use_grid=True, label_max=False, label_min=False,\n",
    "                    save_fig=True):\n",
    "        x, y = self.log_metrics[x_name], [float(i) for i in self.log_metrics[y_name]] \n",
    "        \n",
    "        label = None\n",
    "        if label_max:\n",
    "            label = f'Max Value: {max(y):.3f}'\n",
    "        if label_min:\n",
    "            label = f'Min Value: {min(y):.3f}'\n",
    "            \n",
    "        plt.plot(x, y, label=label)\n",
    "        \n",
    "        xlabel = x_name if x_label is None else x_label\n",
    "        ylabel = y_name if y_label is None else y_label\n",
    "        title = f'Training Log for Model at {self.model_dir}' if title is None else title\n",
    "        plt.title(title)\n",
    "        plt.xlabel(xlabel)\n",
    "        plt.ylabel(ylabel)\n",
    "        plt.grid(use_grid)\n",
    "        if label_max or label_min:\n",
    "            plt.legend()\n",
    "        if save_fig:\n",
    "            plt.savefig(os.path.join(self.model_dir, f'log_{xlabel}_{ylabel}.pdf'))\n",
    "        \n",
    "        plt.show()\n",
    "            \n",
    "    \n",
    "    def train(self, train_loader, val_loader):\n",
    "        \n",
    "        optimizer = torch.optim.Adam(self.model.parameters(), lr=self.learning_rate)\n",
    "        loss_fcn = self.loss_fcn\n",
    "        model = self.model\n",
    "        starting_epoch = self.starting_epoch\n",
    "        tot_steps = self.tot_steps\n",
    "        patience = self.patience\n",
    "        log_frequency = self.log_frequency\n",
    "        n_train = len(train_loader)\n",
    "        n_val = min(len(val_loader), self.val_batch)\n",
    "        device = self.device\n",
    "        \n",
    "        \n",
    "        best_loss = 0\n",
    "        attempts = 0\n",
    "        for epoch in range(self.num_epochs):\n",
    "            data = iter(train_loader)\n",
    "            model.train()\n",
    "            # Training Loop #\n",
    "            with trange(n_train, desc=f'Epoch[{epoch+starting_epoch+1}/{starting_epoch+num_epochs}]') as t0:\n",
    "                for step in t0:\n",
    "                    data_input, data_target = next(data)\n",
    "                    #data_input = data_input.to(device)\n",
    "                    #data_target = data_target.to(device)\n",
    "\n",
    "                    # Forward pass\n",
    "                    optimizer.zero_grad()\n",
    "                    prediction = model(data_input)\n",
    "\n",
    "                    # Compute metrics\n",
    "                    loss = loss_fcn.compute_loss(prediction, data_target)\n",
    "                    metric_dict = {}\n",
    "                    for key in self.loss_fcn.metric_dict:\n",
    "                        metric_dict[key] = f'{self.loss_fcn.metric_dict[key][-1]:.4f}'\n",
    "                    t0.set_postfix(**metric_dict)\n",
    "\n",
    "                    # Backprop and optimize\n",
    "                    \n",
    "                    loss.backward()\n",
    "                    optimizer.step()\n",
    "\n",
    "                    # Log metrics\n",
    "                    if (step+1) % log_frequency == 0:\n",
    "                        #with metric_writer.as_default():\n",
    "                        for key, val in metric_dict.items():\n",
    "                            #tf.summary.scalar(key, float(val), step=tot_steps)\n",
    "                            if key in self.log_metrics:\n",
    "                                self.log_metrics[key] = np.append(self.log_metrics[key], val)\n",
    "                            else:\n",
    "                                self.log_metrics[key] = np.array([val])\n",
    "                        self.log_metrics['val_step'] = np.append(self.log_metrics['val_step'], tot_steps)\n",
    "                                \n",
    "                    tot_steps += 1\n",
    "\n",
    "\n",
    "            # Validation #\n",
    "            data = iter(val_loader)\n",
    "            model.eval()\n",
    "            val_loss, val_auc = 0, 0\n",
    "            for _ in range(n_val):\n",
    "                input_data, target_data = next(data)\n",
    "\n",
    "                # Forward pass\n",
    "                y_pred = model(input_data)\n",
    "\n",
    "                # Compute metrics\n",
    "                loss = loss_fcn.loss(y_pred, target_data)\n",
    "                val_loss += loss / n_val\n",
    "\n",
    "            # Log validation metrics #\n",
    "            #with metric_writer.as_default():\n",
    "            #    tf.summary.scalar(\"val_loss\", float(val_loss), step=tot_steps)\n",
    "\n",
    "\n",
    "            if best_loss <= val_loss:\n",
    "                attempts = 0\n",
    "                best_loss = val_loss\n",
    "            else:\n",
    "                attempts += 1\n",
    "\n",
    "            print(f\"Epoch[{epoch+starting_epoch+1}/{starting_epoch+num_epochs}], val_loss: {val_loss:.4f}\")\n",
    "            if 'val_loss' in self.log_metrics:\n",
    "                self.log_metrics['val_loss'] = np.append(self.log_metrics['val_loss'], val_loss.detach())\n",
    "            else:\n",
    "                self.log_metrics['val_loss'] = np.array([val_loss.detach()])\n",
    "            self.log_metrics['val_epoch'] = np.append(self.log_metrics['val_epoch'], epoch+starting_epoch+1)\n",
    "            \n",
    "            # Save Model #\n",
    "            self.log_metrics['steps'] = self.tot_steps\n",
    "            self.log_metrics['epochs'] = epoch+starting_epoch+1\n",
    "            torch.save(model, self.ckpt_dir)\n",
    "            np.savez(self.log_data, **self.log_metrics)\n",
    "\n",
    "            # Check Early Stop #\n",
    "            if attempts >= patience:\n",
    "                print(\"Reached maximum failed attempts: \"\\\n",
    "                        \"{} attempts. Stopping training\".format(patience))\n",
    "                break"
   ]
  },
  {
   "cell_type": "code",
   "execution_count": 7,
   "id": "76746672-f0c7-4d92-aeec-a792319ec3af",
   "metadata": {},
   "outputs": [],
   "source": [
    "class LossBase:\n",
    "    def __init__(self, loss):\n",
    "        self.loss = loss\n",
    "        self.metric_dict = {}\n",
    "        \n",
    "    def compute_loss(self, y_pred, y_truth):\n",
    "        loss_val = self.loss(y_pred, y_truth)\n",
    "        if 'loss' in self.metric_dict:\n",
    "            self.metric_dict['loss'] = np.append(self.metric_dict['loss'], loss_val.cpu().detach())\n",
    "        else:\n",
    "            self.metric_dict['loss'] = np.array([loss_val.cpu().detach()])\n",
    "        self.compute_metrics(y_pred, y_truth)\n",
    "        return loss_val\n",
    "    \n",
    "    def compute_metrics(self, y_pred, y_truth):\n",
    "        return\n",
    "        \n",
    "        \n",
    "class TorchNLL(LossBase):\n",
    "    def __init__(self):\n",
    "        loss = nn.NLLLoss()\n",
    "        super(TorchNLL, self).__init__(loss)\n",
    "        \n",
    "class CrossEntropy(LossBase):\n",
    "    def __init__(self):\n",
    "        loss = nn.CrossEntropyLoss()\n",
    "        super(CrossEntropy, self).__init__(loss)\n",
    "    \n",
    "    def compute_metrics(self, y_pred, y_truth):\n",
    "        pred = y_pred.argmax(dim=1, keepdim=True)\n",
    "        if 'acc' in self.metric_dict:\n",
    "            self.n += 1\n",
    "            self.n_correct += pred.eq(y_truth.view_as(pred)).sum().item()\n",
    "            self.metric_dict['acc'] = np.append(self.metric_dict['acc'], self.n_correct / self.n)\n",
    "        else:\n",
    "            self.n = 1\n",
    "            self.n_correct = pred.eq(y_truth.view_as(pred)).sum().item()\n",
    "            self.metric_dict['acc'] = np.array([self.n_correct])"
   ]
  },
  {
   "cell_type": "markdown",
   "id": "906592ab-2f10-4455-ad67-f499581187d7",
   "metadata": {},
   "source": [
    "## Loading Data"
   ]
  },
  {
   "cell_type": "code",
   "execution_count": 8,
   "id": "0b42887d-1bbf-40a7-826b-5fe46d48cd88",
   "metadata": {},
   "outputs": [],
   "source": [
    "data = np.load('data.npz')\n",
    "sentence = data['sentence']\n",
    "label = data['label']\n",
    "n_train = 300\n",
    "n_val = 200\n",
    "n_test = 100\n",
    "x_train, y_train = sentence[:n_train], label[:n_train]\n",
    "x_val, y_val = sentence[n_train:n_val+n_train], label[n_train:n_val+n_train]\n",
    "x_test, y_test = sentence[n_train+n_val:n_val+n_train+n_test], label[n_train+n_val:n_val+n_train+n_test]"
   ]
  },
  {
   "cell_type": "code",
   "execution_count": 9,
   "id": "43114844-46e0-43cf-b50c-104b6e65e485",
   "metadata": {},
   "outputs": [],
   "source": [
    "train_data = Data(x_train, y_train)\n",
    "train_loader = torch.utils.data.DataLoader(train_data, batch_size=1, shuffle=True)\n",
    "\n",
    "val_data = Data(x_val, y_val)\n",
    "val_loader = torch.utils.data.DataLoader(val_data, batch_size=1, shuffle=True)\n",
    "\n",
    "test_data = Data(x_test, y_test)\n",
    "test_loader = torch.utils.data.DataLoader(test_data, batch_size=1, shuffle=True)"
   ]
  },
  {
   "cell_type": "code",
   "execution_count": 10,
   "id": "fd25dd90-72e9-4f06-8f7f-7dbb7251c5cc",
   "metadata": {},
   "outputs": [
    {
     "data": {
      "text/plain": [
       "5"
      ]
     },
     "execution_count": 10,
     "metadata": {},
     "output_type": "execute_result"
    }
   ],
   "source": [
    "feature_dim = len(x_train[0])\n",
    "feature_dim"
   ]
  },
  {
   "cell_type": "markdown",
   "id": "a0c7294f-888d-467c-afc8-48258846acd6",
   "metadata": {},
   "source": [
    "## Constructing Model"
   ]
  },
  {
   "cell_type": "markdown",
   "id": "18872a0b-d37d-4a1e-8c43-829e9e2467e0",
   "metadata": {},
   "source": [
    "### Construct the Quantum Circuit"
   ]
  },
  {
   "cell_type": "code",
   "execution_count": 11,
   "id": "43d65b00-f637-494f-8ec4-1dd77964c97c",
   "metadata": {},
   "outputs": [],
   "source": [
    "# Config\n",
    "maximizing_steps = 40\n",
    "encoding_repetition = 1\n",
    "model_repetition = 2\n",
    "simulator_shots = 1000"
   ]
  },
  {
   "cell_type": "code",
   "execution_count": 12,
   "id": "e47f53af-7a1f-44aa-8d5b-5797be64109b",
   "metadata": {},
   "outputs": [
    {
     "data": {
      "image/png": "[encoded data removed]",
      "text/plain": [
       "<Figure size 1123.61x451.5 with 1 Axes>"
      ]
     },
     "execution_count": 12,
     "metadata": {},
     "output_type": "execute_result"
    }
   ],
   "source": [
    "feature_map = ZZFeatureMap(feature_dimension=feature_dim, reps=encoding_repetition)\n",
    "ansatz = EfficientSU2(feature_dim, reps=model_repetition)\n",
    "qc = QuantumCircuit(feature_dim)\n",
    "qc.compose(feature_map, inplace=True)\n",
    "qc.compose(ansatz, inplace=True)\n",
    "qnn1 = EstimatorQNN(\n",
    "    circuit=qc, input_params=feature_map.parameters, weight_params=ansatz.parameters\n",
    ")\n",
    "\n",
    "qc.draw(\"mpl\")"
   ]
  },
  {
   "cell_type": "markdown",
   "id": "7c6f5b92-a6f1-4c6c-833b-4dbd756260c3",
   "metadata": {},
   "source": [
    "### Construct the Hybrid Model"
   ]
  },
  {
   "cell_type": "code",
   "execution_count": 14,
   "id": "6f1f941f-199d-4773-833a-a56fa9515c6b",
   "metadata": {},
   "outputs": [],
   "source": [
    "class BasicNet(nn.Module):\n",
    "    def __init__(self):\n",
    "        super().__init__()\n",
    "        self.fc1 = nn.Linear(5, 128)\n",
    "        self.fc2 = nn.Linear(128, 5)  # 5-dimensional input to QNN\n",
    "        #self.qnn = TorchConnector(qnn)  # Apply torch connector, weights chosen\n",
    "        # uniformly at random from interval [-1,1].\n",
    "        self.fc3 = nn.Linear(5, 3)  # 1-dimensional output from QNN\n",
    "\n",
    "    def forward(self, x):\n",
    "        x = F.relu(self.fc1(x))\n",
    "        x = self.fc2(x)\n",
    "        #x = self.qnn(x)\n",
    "        x = self.fc3(x)\n",
    "        return x"
   ]
  },
  {
   "cell_type": "code",
   "execution_count": 15,
   "id": "69d83523-0494-4236-aad0-40a6f1f3af56",
   "metadata": {
    "tags": []
   },
   "outputs": [],
   "source": [
    "class HybridVQC(nn.Module):\n",
    "    def __init__(self, qnn):\n",
    "        super().__init__()\n",
    "        self.fc1 = nn.Linear(5, 128)\n",
    "        self.fc2 = nn.Linear(128, 5)  # 5-dimensional input to QNN\n",
    "        self.qnn = TorchConnector(qnn)  # Apply torch connector, weights chosen\n",
    "        # uniformly at random from interval [-1,1].\n",
    "        self.fc3 = nn.Linear(1, 3)  # 1-dimensional output from QNN\n",
    "\n",
    "    def forward(self, x):\n",
    "        x = F.relu(self.fc1(x))\n",
    "        x = self.fc2(x)\n",
    "        x = self.qnn(x)\n",
    "        x = self.fc3(x)\n",
    "        return x"
   ]
  },
  {
   "cell_type": "code",
   "execution_count": 56,
   "id": "58371b2b-efde-48f7-871d-6b2f96c27c52",
   "metadata": {},
   "outputs": [
    {
     "name": "stdout",
     "output_type": "stream",
     "text": [
      ">>> Using cpu\n",
      ">> Loaded model from test_classical/ckpt\n"
     ]
    }
   ],
   "source": [
    "model_dir = 'test_classical'\n",
    "model = BasicNet()\n",
    "num_epochs = 40\n",
    "batch_size = 1\n",
    "learning_rate = 1e-3\n",
    "patience = 100\n",
    "log_freq = 10\n",
    "val_batch = 5\n",
    "device = 'cpu'\n",
    "loss_fcn = CrossEntropy\n",
    "trainer = TorchTrainer(model_dir, model,\n",
    "                       num_epochs, batch_size, learning_rate,\n",
    "                       patience, log_freq, val_batch,\n",
    "                       loss_fcn, device)"
   ]
  },
  {
   "cell_type": "code",
   "execution_count": 19,
   "id": "ca679887-9e68-4afe-bf0c-f84dea4b5434",
   "metadata": {
    "scrolled": true,
    "tags": []
   },
   "outputs": [
    {
     "name": "stderr",
     "output_type": "stream",
     "text": [
      "Epoch[11/50]: 100%|██████████| 300/300 [00:00<00:00, 1074.30it/s, acc=0.7167, loss=7.1253] \n"
     ]
    },
    {
     "name": "stdout",
     "output_type": "stream",
     "text": [
      "Epoch[11/50], val_loss: 0.9481\n"
     ]
    },
    {
     "name": "stderr",
     "output_type": "stream",
     "text": [
      "Epoch[12/50]: 100%|██████████| 300/300 [00:00<00:00, 1052.88it/s, acc=0.6942, loss=0.0638] \n"
     ]
    },
    {
     "name": "stdout",
     "output_type": "stream",
     "text": [
      "Epoch[12/50], val_loss: 1.2943\n"
     ]
    },
    {
     "name": "stderr",
     "output_type": "stream",
     "text": [
      "Epoch[13/50]: 100%|██████████| 300/300 [00:00<00:00, 1029.65it/s, acc=0.7011, loss=0.0151]\n"
     ]
    },
    {
     "name": "stdout",
     "output_type": "stream",
     "text": [
      "Epoch[13/50], val_loss: 0.0601\n"
     ]
    },
    {
     "name": "stderr",
     "output_type": "stream",
     "text": [
      "Epoch[14/50]: 100%|██████████| 300/300 [00:00<00:00, 985.26it/s, acc=0.7053, loss=0.2701]\n"
     ]
    },
    {
     "name": "stdout",
     "output_type": "stream",
     "text": [
      "Epoch[14/50], val_loss: 0.0257\n"
     ]
    },
    {
     "name": "stderr",
     "output_type": "stream",
     "text": [
      "Epoch[15/50]: 100%|██████████| 300/300 [00:00<00:00, 909.32it/s, acc=0.7171, loss=0.1618]\n"
     ]
    },
    {
     "name": "stdout",
     "output_type": "stream",
     "text": [
      "Epoch[15/50], val_loss: 1.9700\n"
     ]
    },
    {
     "name": "stderr",
     "output_type": "stream",
     "text": [
      "Epoch[16/50]: 100%|██████████| 300/300 [00:00<00:00, 893.34it/s, acc=0.7266, loss=0.3201]\n"
     ]
    },
    {
     "name": "stdout",
     "output_type": "stream",
     "text": [
      "Epoch[16/50], val_loss: 0.0466\n"
     ]
    },
    {
     "name": "stderr",
     "output_type": "stream",
     "text": [
      "Epoch[17/50]: 100%|██████████| 300/300 [00:00<00:00, 880.07it/s, acc=0.7296, loss=2.7136]\n"
     ]
    },
    {
     "name": "stdout",
     "output_type": "stream",
     "text": [
      "Epoch[17/50], val_loss: 0.1321\n"
     ]
    },
    {
     "name": "stderr",
     "output_type": "stream",
     "text": [
      "Epoch[18/50]: 100%|██████████| 300/300 [00:00<00:00, 872.73it/s, acc=0.7314, loss=0.6143]\n"
     ]
    },
    {
     "name": "stdout",
     "output_type": "stream",
     "text": [
      "Epoch[18/50], val_loss: 0.7367\n"
     ]
    },
    {
     "name": "stderr",
     "output_type": "stream",
     "text": [
      "Epoch[19/50]: 100%|██████████| 300/300 [00:00<00:00, 863.24it/s, acc=0.7350, loss=0.0017]\n"
     ]
    },
    {
     "name": "stdout",
     "output_type": "stream",
     "text": [
      "Epoch[19/50], val_loss: 0.4929\n"
     ]
    },
    {
     "name": "stderr",
     "output_type": "stream",
     "text": [
      "Epoch[20/50]: 100%|██████████| 300/300 [00:00<00:00, 884.11it/s, acc=0.7366, loss=1.4319]\n"
     ]
    },
    {
     "name": "stdout",
     "output_type": "stream",
     "text": [
      "Epoch[20/50], val_loss: 1.0822\n"
     ]
    },
    {
     "name": "stderr",
     "output_type": "stream",
     "text": [
      "Epoch[21/50]: 100%|██████████| 300/300 [00:00<00:00, 872.10it/s, acc=0.7379, loss=0.6536]\n"
     ]
    },
    {
     "name": "stdout",
     "output_type": "stream",
     "text": [
      "Epoch[21/50], val_loss: 0.1419\n"
     ]
    },
    {
     "name": "stderr",
     "output_type": "stream",
     "text": [
      "Epoch[22/50]: 100%|██████████| 300/300 [00:00<00:00, 859.67it/s, acc=0.7415, loss=0.1647]\n"
     ]
    },
    {
     "name": "stdout",
     "output_type": "stream",
     "text": [
      "Epoch[22/50], val_loss: 0.0207\n"
     ]
    },
    {
     "name": "stderr",
     "output_type": "stream",
     "text": [
      "Epoch[23/50]: 100%|██████████| 300/300 [00:00<00:00, 864.87it/s, acc=0.7437, loss=0.2577]\n"
     ]
    },
    {
     "name": "stdout",
     "output_type": "stream",
     "text": [
      "Epoch[23/50], val_loss: 0.0930\n"
     ]
    },
    {
     "name": "stderr",
     "output_type": "stream",
     "text": [
      "Epoch[24/50]: 100%|██████████| 300/300 [00:00<00:00, 857.63it/s, acc=0.7447, loss=0.4789]\n"
     ]
    },
    {
     "name": "stdout",
     "output_type": "stream",
     "text": [
      "Epoch[24/50], val_loss: 0.0718\n"
     ]
    },
    {
     "name": "stderr",
     "output_type": "stream",
     "text": [
      "Epoch[25/50]: 100%|██████████| 300/300 [00:00<00:00, 867.22it/s, acc=0.7460, loss=0.5399]\n"
     ]
    },
    {
     "name": "stdout",
     "output_type": "stream",
     "text": [
      "Epoch[25/50], val_loss: 0.7746\n"
     ]
    },
    {
     "name": "stderr",
     "output_type": "stream",
     "text": [
      "Epoch[26/50]: 100%|██████████| 300/300 [00:00<00:00, 894.35it/s, acc=0.7467, loss=1.2376]\n"
     ]
    },
    {
     "name": "stdout",
     "output_type": "stream",
     "text": [
      "Epoch[26/50], val_loss: 0.1819\n"
     ]
    },
    {
     "name": "stderr",
     "output_type": "stream",
     "text": [
      "Epoch[27/50]: 100%|██████████| 300/300 [00:00<00:00, 883.22it/s, acc=0.7486, loss=0.0077]\n"
     ]
    },
    {
     "name": "stdout",
     "output_type": "stream",
     "text": [
      "Epoch[27/50], val_loss: 0.8494\n"
     ]
    },
    {
     "name": "stderr",
     "output_type": "stream",
     "text": [
      "Epoch[28/50]: 100%|██████████| 300/300 [00:00<00:00, 883.22it/s, acc=0.7495, loss=0.3672]\n"
     ]
    },
    {
     "name": "stdout",
     "output_type": "stream",
     "text": [
      "Epoch[28/50], val_loss: 1.1258\n"
     ]
    },
    {
     "name": "stderr",
     "output_type": "stream",
     "text": [
      "Epoch[29/50]: 100%|██████████| 300/300 [00:00<00:00, 930.42it/s, acc=0.7506, loss=0.4470]\n"
     ]
    },
    {
     "name": "stdout",
     "output_type": "stream",
     "text": [
      "Epoch[29/50], val_loss: 2.2591\n"
     ]
    },
    {
     "name": "stderr",
     "output_type": "stream",
     "text": [
      "Epoch[30/50]: 100%|██████████| 300/300 [00:00<00:00, 1016.87it/s, acc=0.7508, loss=0.3163]\n"
     ]
    },
    {
     "name": "stdout",
     "output_type": "stream",
     "text": [
      "Epoch[30/50], val_loss: 0.9744\n"
     ]
    },
    {
     "name": "stderr",
     "output_type": "stream",
     "text": [
      "Epoch[31/50]: 100%|██████████| 300/300 [00:00<00:00, 1020.33it/s, acc=0.7520, loss=0.3586]\n"
     ]
    },
    {
     "name": "stdout",
     "output_type": "stream",
     "text": [
      "Epoch[31/50], val_loss: 0.1254\n"
     ]
    },
    {
     "name": "stderr",
     "output_type": "stream",
     "text": [
      "Epoch[32/50]: 100%|██████████| 300/300 [00:00<00:00, 996.86it/s, acc=0.7533, loss=1.4540] \n"
     ]
    },
    {
     "name": "stdout",
     "output_type": "stream",
     "text": [
      "Epoch[32/50], val_loss: 0.0325\n"
     ]
    },
    {
     "name": "stderr",
     "output_type": "stream",
     "text": [
      "Epoch[33/50]: 100%|██████████| 300/300 [00:00<00:00, 1017.84it/s, acc=0.7535, loss=0.2730]\n"
     ]
    },
    {
     "name": "stdout",
     "output_type": "stream",
     "text": [
      "Epoch[33/50], val_loss: 1.8368\n"
     ]
    },
    {
     "name": "stderr",
     "output_type": "stream",
     "text": [
      "Epoch[34/50]: 100%|██████████| 300/300 [00:00<00:00, 1024.81it/s, acc=0.7545, loss=0.4373]\n"
     ]
    },
    {
     "name": "stdout",
     "output_type": "stream",
     "text": [
      "Epoch[34/50], val_loss: 0.3065\n"
     ]
    },
    {
     "name": "stderr",
     "output_type": "stream",
     "text": [
      "Epoch[35/50]: 100%|██████████| 300/300 [00:00<00:00, 1015.47it/s, acc=0.7551, loss=0.0207]\n"
     ]
    },
    {
     "name": "stdout",
     "output_type": "stream",
     "text": [
      "Epoch[35/50], val_loss: 1.2332\n"
     ]
    },
    {
     "name": "stderr",
     "output_type": "stream",
     "text": [
      "Epoch[36/50]: 100%|██████████| 300/300 [00:00<00:00, 930.25it/s, acc=0.7557, loss=0.0610]\n"
     ]
    },
    {
     "name": "stdout",
     "output_type": "stream",
     "text": [
      "Epoch[36/50], val_loss: 0.1947\n"
     ]
    },
    {
     "name": "stderr",
     "output_type": "stream",
     "text": [
      "Epoch[37/50]: 100%|██████████| 300/300 [00:00<00:00, 865.67it/s, acc=0.7572, loss=0.0000]\n"
     ]
    },
    {
     "name": "stdout",
     "output_type": "stream",
     "text": [
      "Epoch[37/50], val_loss: 1.2005\n"
     ]
    },
    {
     "name": "stderr",
     "output_type": "stream",
     "text": [
      "Epoch[38/50]: 100%|██████████| 300/300 [00:00<00:00, 881.95it/s, acc=0.7576, loss=0.0732]\n"
     ]
    },
    {
     "name": "stdout",
     "output_type": "stream",
     "text": [
      "Epoch[38/50], val_loss: 0.7931\n"
     ]
    },
    {
     "name": "stderr",
     "output_type": "stream",
     "text": [
      "Epoch[39/50]: 100%|██████████| 300/300 [00:00<00:00, 883.55it/s, acc=0.7578, loss=0.6289]\n"
     ]
    },
    {
     "name": "stdout",
     "output_type": "stream",
     "text": [
      "Epoch[39/50], val_loss: 0.5027\n"
     ]
    },
    {
     "name": "stderr",
     "output_type": "stream",
     "text": [
      "Epoch[40/50]: 100%|██████████| 300/300 [00:00<00:00, 902.20it/s, acc=0.7583, loss=0.0120]\n"
     ]
    },
    {
     "name": "stdout",
     "output_type": "stream",
     "text": [
      "Epoch[40/50], val_loss: 3.0566\n"
     ]
    },
    {
     "name": "stderr",
     "output_type": "stream",
     "text": [
      "Epoch[41/50]: 100%|██████████| 300/300 [00:00<00:00, 903.76it/s, acc=0.7593, loss=0.0770]\n"
     ]
    },
    {
     "name": "stdout",
     "output_type": "stream",
     "text": [
      "Epoch[41/50], val_loss: 0.5483\n"
     ]
    },
    {
     "name": "stderr",
     "output_type": "stream",
     "text": [
      "Epoch[42/50]: 100%|██████████| 300/300 [00:00<00:00, 899.05it/s, acc=0.7600, loss=0.0218]\n"
     ]
    },
    {
     "name": "stdout",
     "output_type": "stream",
     "text": [
      "Epoch[42/50], val_loss: 0.9880\n"
     ]
    },
    {
     "name": "stderr",
     "output_type": "stream",
     "text": [
      "Epoch[43/50]: 100%|██████████| 300/300 [00:00<00:00, 889.21it/s, acc=0.7611, loss=0.2269]\n"
     ]
    },
    {
     "name": "stdout",
     "output_type": "stream",
     "text": [
      "Epoch[43/50], val_loss: 0.0473\n"
     ]
    },
    {
     "name": "stderr",
     "output_type": "stream",
     "text": [
      "Epoch[44/50]: 100%|██████████| 300/300 [00:00<00:00, 915.74it/s, acc=0.7616, loss=0.0000]\n"
     ]
    },
    {
     "name": "stdout",
     "output_type": "stream",
     "text": [
      "Epoch[44/50], val_loss: 1.2453\n"
     ]
    },
    {
     "name": "stderr",
     "output_type": "stream",
     "text": [
      "Epoch[45/50]: 100%|██████████| 300/300 [00:00<00:00, 892.96it/s, acc=0.7630, loss=0.1028]\n"
     ]
    },
    {
     "name": "stdout",
     "output_type": "stream",
     "text": [
      "Epoch[45/50], val_loss: 1.9029\n"
     ]
    },
    {
     "name": "stderr",
     "output_type": "stream",
     "text": [
      "Epoch[46/50]: 100%|██████████| 300/300 [00:00<00:00, 896.12it/s, acc=0.7634, loss=0.0000]\n"
     ]
    },
    {
     "name": "stdout",
     "output_type": "stream",
     "text": [
      "Epoch[46/50], val_loss: 1.8358\n"
     ]
    },
    {
     "name": "stderr",
     "output_type": "stream",
     "text": [
      "Epoch[47/50]: 100%|██████████| 300/300 [00:00<00:00, 903.72it/s, acc=0.7639, loss=0.4546]\n"
     ]
    },
    {
     "name": "stdout",
     "output_type": "stream",
     "text": [
      "Epoch[47/50], val_loss: 1.5957\n"
     ]
    },
    {
     "name": "stderr",
     "output_type": "stream",
     "text": [
      "Epoch[48/50]: 100%|██████████| 300/300 [00:00<00:00, 898.66it/s, acc=0.7646, loss=0.1906]\n"
     ]
    },
    {
     "name": "stdout",
     "output_type": "stream",
     "text": [
      "Epoch[48/50], val_loss: 0.0797\n"
     ]
    },
    {
     "name": "stderr",
     "output_type": "stream",
     "text": [
      "Epoch[49/50]: 100%|██████████| 300/300 [00:00<00:00, 898.80it/s, acc=0.7653, loss=0.0026]\n"
     ]
    },
    {
     "name": "stdout",
     "output_type": "stream",
     "text": [
      "Epoch[49/50], val_loss: 4.7708\n"
     ]
    },
    {
     "name": "stderr",
     "output_type": "stream",
     "text": [
      "Epoch[50/50]: 100%|██████████| 300/300 [00:00<00:00, 930.55it/s, acc=0.7663, loss=2.2304]\n"
     ]
    },
    {
     "name": "stdout",
     "output_type": "stream",
     "text": [
      "Epoch[50/50], val_loss: 1.7265\n"
     ]
    }
   ],
   "source": [
    "trainer.train(train_loader, val_loader)"
   ]
  },
  {
   "cell_type": "code",
   "execution_count": 57,
   "id": "5494b982-d004-46d6-8499-49488e5ba9e4",
   "metadata": {},
   "outputs": [
    {
     "data": {
      "image/png": "[encoded data removed]",
      "text/plain": [
       "<Figure size 640x480 with 1 Axes>"
      ]
     },
     "metadata": {},
     "output_type": "display_data"
    },
    {
     "data": {
      "image/png": "[encoded data removed]",
      "text/plain": [
       "<Figure size 640x480 with 1 Axes>"
      ]
     },
     "metadata": {},
     "output_type": "display_data"
    }
   ],
   "source": [
    "trainer.plot_metric('val_step', 'acc', 'Step', 'Accuracy', use_grid=True, title='Classical MLP')\n",
    "trainer.plot_metric('val_epoch', 'val_loss', 'Epoch', 'Loss', label_min=True, use_grid=True,  title='Classical MLP')"
   ]
  },
  {
   "cell_type": "code",
   "execution_count": 59,
   "id": "351fc1ee-10b3-42d4-83c6-636348601ef4",
   "metadata": {
    "tags": []
   },
   "outputs": [
    {
     "name": "stdout",
     "output_type": "stream",
     "text": [
      ">>> Using cpu\n",
      ">> Loaded model from test_vqc/ckpt\n"
     ]
    }
   ],
   "source": [
    "model_dir = 'test_vqc'\n",
    "model = HybridVQC(qnn1)\n",
    "num_epochs = 50\n",
    "batch_size = 1\n",
    "learning_rate = 1e-3\n",
    "patience = 100\n",
    "log_freq = 10\n",
    "val_batch = 5\n",
    "device = 'cpu'\n",
    "loss_fcn = CrossEntropy\n",
    "trainer = TorchTrainer(model_dir, model,\n",
    "                       num_epochs, batch_size, learning_rate,\n",
    "                       patience, log_freq, val_batch,\n",
    "                       loss_fcn, device)"
   ]
  },
  {
   "cell_type": "code",
   "execution_count": 31,
   "id": "36af5eca-358b-4bb5-8a82-397402db821c",
   "metadata": {
    "collapsed": true,
    "jupyter": {
     "outputs_hidden": true
    },
    "tags": []
   },
   "outputs": [
    {
     "name": "stderr",
     "output_type": "stream",
     "text": [
      "Epoch[1/50]: 100%|██████████| 300/300 [01:28<00:00,  3.39it/s, acc=0.7533, loss=0.4667]\n"
     ]
    },
    {
     "name": "stdout",
     "output_type": "stream",
     "text": [
      "Epoch[1/50], val_loss: 0.7167\n"
     ]
    },
    {
     "name": "stderr",
     "output_type": "stream",
     "text": [
      "Epoch[2/50]: 100%|██████████| 300/300 [01:28<00:00,  3.39it/s, acc=0.7537, loss=1.8355]\n"
     ]
    },
    {
     "name": "stdout",
     "output_type": "stream",
     "text": [
      "Epoch[2/50], val_loss: 0.4269\n"
     ]
    },
    {
     "name": "stderr",
     "output_type": "stream",
     "text": [
      "Epoch[3/50]: 100%|██████████| 300/300 [01:29<00:00,  3.36it/s, acc=0.7549, loss=0.3571]\n"
     ]
    },
    {
     "name": "stdout",
     "output_type": "stream",
     "text": [
      "Epoch[3/50], val_loss: 0.3881\n"
     ]
    },
    {
     "name": "stderr",
     "output_type": "stream",
     "text": [
      "Epoch[4/50]: 100%|██████████| 300/300 [01:29<00:00,  3.37it/s, acc=0.7556, loss=1.8759]\n"
     ]
    },
    {
     "name": "stdout",
     "output_type": "stream",
     "text": [
      "Epoch[4/50], val_loss: 0.6709\n"
     ]
    },
    {
     "name": "stderr",
     "output_type": "stream",
     "text": [
      "Epoch[5/50]: 100%|██████████| 300/300 [01:28<00:00,  3.38it/s, acc=0.7553, loss=0.4211]\n"
     ]
    },
    {
     "name": "stdout",
     "output_type": "stream",
     "text": [
      "Epoch[5/50], val_loss: 0.3724\n"
     ]
    },
    {
     "name": "stderr",
     "output_type": "stream",
     "text": [
      "Epoch[6/50]: 100%|██████████| 300/300 [01:28<00:00,  3.39it/s, acc=0.7556, loss=0.3365]\n"
     ]
    },
    {
     "name": "stdout",
     "output_type": "stream",
     "text": [
      "Epoch[6/50], val_loss: 0.3328\n"
     ]
    },
    {
     "name": "stderr",
     "output_type": "stream",
     "text": [
      "Epoch[7/50]: 100%|██████████| 300/300 [01:28<00:00,  3.38it/s, acc=0.7559, loss=0.3310]\n"
     ]
    },
    {
     "name": "stdout",
     "output_type": "stream",
     "text": [
      "Epoch[7/50], val_loss: 0.6587\n"
     ]
    },
    {
     "name": "stderr",
     "output_type": "stream",
     "text": [
      "Epoch[8/50]:  45%|████▌     | 135/300 [00:40<00:49,  3.35it/s, acc=0.7583, loss=0.2986]\n"
     ]
    },
    {
     "ename": "KeyboardInterrupt",
     "evalue": "",
     "output_type": "error",
     "traceback": [
      "\u001b[0;31m---------------------------------------------------------------------------\u001b[0m",
      "\u001b[0;31mKeyboardInterrupt\u001b[0m                         Traceback (most recent call last)",
      "Cell \u001b[0;32mIn[31], line 1\u001b[0m\n\u001b[0;32m----> 1\u001b[0m \u001b[43mtrainer\u001b[49m\u001b[38;5;241;43m.\u001b[39;49m\u001b[43mtrain\u001b[49m\u001b[43m(\u001b[49m\u001b[43mtrain_loader\u001b[49m\u001b[43m,\u001b[49m\u001b[43m \u001b[49m\u001b[43mval_loader\u001b[49m\u001b[43m)\u001b[49m\n",
      "Cell \u001b[0;32mIn[6], line 109\u001b[0m, in \u001b[0;36mTorchTrainer.train\u001b[0;34m(self, train_loader, val_loader)\u001b[0m\n\u001b[1;32m    105\u001b[0m t0\u001b[38;5;241m.\u001b[39mset_postfix(\u001b[38;5;241m*\u001b[39m\u001b[38;5;241m*\u001b[39mmetric_dict)\n\u001b[1;32m    107\u001b[0m \u001b[38;5;66;03m# Backprop and optimize\u001b[39;00m\n\u001b[0;32m--> 109\u001b[0m \u001b[43mloss\u001b[49m\u001b[38;5;241;43m.\u001b[39;49m\u001b[43mbackward\u001b[49m\u001b[43m(\u001b[49m\u001b[43m)\u001b[49m\n\u001b[1;32m    110\u001b[0m optimizer\u001b[38;5;241m.\u001b[39mstep()\n\u001b[1;32m    112\u001b[0m \u001b[38;5;66;03m# Log metrics\u001b[39;00m\n",
      "File \u001b[0;32m/global/cfs/cdirs/m3443/usr/ahuang/het_gnn/envs/qc/lib/python3.8/site-packages/torch/_tensor.py:396\u001b[0m, in \u001b[0;36mTensor.backward\u001b[0;34m(self, gradient, retain_graph, create_graph, inputs)\u001b[0m\n\u001b[1;32m    387\u001b[0m \u001b[38;5;28;01mif\u001b[39;00m has_torch_function_unary(\u001b[38;5;28mself\u001b[39m):\n\u001b[1;32m    388\u001b[0m     \u001b[38;5;28;01mreturn\u001b[39;00m handle_torch_function(\n\u001b[1;32m    389\u001b[0m         Tensor\u001b[38;5;241m.\u001b[39mbackward,\n\u001b[1;32m    390\u001b[0m         (\u001b[38;5;28mself\u001b[39m,),\n\u001b[0;32m   (...)\u001b[0m\n\u001b[1;32m    394\u001b[0m         create_graph\u001b[38;5;241m=\u001b[39mcreate_graph,\n\u001b[1;32m    395\u001b[0m         inputs\u001b[38;5;241m=\u001b[39minputs)\n\u001b[0;32m--> 396\u001b[0m \u001b[43mtorch\u001b[49m\u001b[38;5;241;43m.\u001b[39;49m\u001b[43mautograd\u001b[49m\u001b[38;5;241;43m.\u001b[39;49m\u001b[43mbackward\u001b[49m\u001b[43m(\u001b[49m\u001b[38;5;28;43mself\u001b[39;49m\u001b[43m,\u001b[49m\u001b[43m \u001b[49m\u001b[43mgradient\u001b[49m\u001b[43m,\u001b[49m\u001b[43m \u001b[49m\u001b[43mretain_graph\u001b[49m\u001b[43m,\u001b[49m\u001b[43m \u001b[49m\u001b[43mcreate_graph\u001b[49m\u001b[43m,\u001b[49m\u001b[43m \u001b[49m\u001b[43minputs\u001b[49m\u001b[38;5;241;43m=\u001b[39;49m\u001b[43minputs\u001b[49m\u001b[43m)\u001b[49m\n",
      "File \u001b[0;32m/global/cfs/cdirs/m3443/usr/ahuang/het_gnn/envs/qc/lib/python3.8/site-packages/torch/autograd/__init__.py:173\u001b[0m, in \u001b[0;36mbackward\u001b[0;34m(tensors, grad_tensors, retain_graph, create_graph, grad_variables, inputs)\u001b[0m\n\u001b[1;32m    168\u001b[0m     retain_graph \u001b[38;5;241m=\u001b[39m create_graph\n\u001b[1;32m    170\u001b[0m \u001b[38;5;66;03m# The reason we repeat same the comment below is that\u001b[39;00m\n\u001b[1;32m    171\u001b[0m \u001b[38;5;66;03m# some Python versions print out the first line of a multi-line function\u001b[39;00m\n\u001b[1;32m    172\u001b[0m \u001b[38;5;66;03m# calls in the traceback and some print out the last line\u001b[39;00m\n\u001b[0;32m--> 173\u001b[0m \u001b[43mVariable\u001b[49m\u001b[38;5;241;43m.\u001b[39;49m\u001b[43m_execution_engine\u001b[49m\u001b[38;5;241;43m.\u001b[39;49m\u001b[43mrun_backward\u001b[49m\u001b[43m(\u001b[49m\u001b[43m  \u001b[49m\u001b[38;5;66;43;03m# Calls into the C++ engine to run the backward pass\u001b[39;49;00m\n\u001b[1;32m    174\u001b[0m \u001b[43m    \u001b[49m\u001b[43mtensors\u001b[49m\u001b[43m,\u001b[49m\u001b[43m \u001b[49m\u001b[43mgrad_tensors_\u001b[49m\u001b[43m,\u001b[49m\u001b[43m \u001b[49m\u001b[43mretain_graph\u001b[49m\u001b[43m,\u001b[49m\u001b[43m \u001b[49m\u001b[43mcreate_graph\u001b[49m\u001b[43m,\u001b[49m\u001b[43m \u001b[49m\u001b[43minputs\u001b[49m\u001b[43m,\u001b[49m\n\u001b[1;32m    175\u001b[0m \u001b[43m    \u001b[49m\u001b[43mallow_unreachable\u001b[49m\u001b[38;5;241;43m=\u001b[39;49m\u001b[38;5;28;43;01mTrue\u001b[39;49;00m\u001b[43m,\u001b[49m\u001b[43m \u001b[49m\u001b[43maccumulate_grad\u001b[49m\u001b[38;5;241;43m=\u001b[39;49m\u001b[38;5;28;43;01mTrue\u001b[39;49;00m\u001b[43m)\u001b[49m\n",
      "File \u001b[0;32m/global/cfs/cdirs/m3443/usr/ahuang/het_gnn/envs/qc/lib/python3.8/site-packages/torch/autograd/function.py:253\u001b[0m, in \u001b[0;36mBackwardCFunction.apply\u001b[0;34m(self, *args)\u001b[0m\n\u001b[1;32m    249\u001b[0m     \u001b[38;5;28;01mraise\u001b[39;00m \u001b[38;5;167;01mRuntimeError\u001b[39;00m(\u001b[38;5;124m\"\u001b[39m\u001b[38;5;124mImplementing both \u001b[39m\u001b[38;5;124m'\u001b[39m\u001b[38;5;124mbackward\u001b[39m\u001b[38;5;124m'\u001b[39m\u001b[38;5;124m and \u001b[39m\u001b[38;5;124m'\u001b[39m\u001b[38;5;124mvjp\u001b[39m\u001b[38;5;124m'\u001b[39m\u001b[38;5;124m for a custom \u001b[39m\u001b[38;5;124m\"\u001b[39m\n\u001b[1;32m    250\u001b[0m                        \u001b[38;5;124m\"\u001b[39m\u001b[38;5;124mFunction is not allowed. You should only implement one \u001b[39m\u001b[38;5;124m\"\u001b[39m\n\u001b[1;32m    251\u001b[0m                        \u001b[38;5;124m\"\u001b[39m\u001b[38;5;124mof them.\u001b[39m\u001b[38;5;124m\"\u001b[39m)\n\u001b[1;32m    252\u001b[0m user_fn \u001b[38;5;241m=\u001b[39m vjp_fn \u001b[38;5;28;01mif\u001b[39;00m vjp_fn \u001b[38;5;129;01mis\u001b[39;00m \u001b[38;5;129;01mnot\u001b[39;00m Function\u001b[38;5;241m.\u001b[39mvjp \u001b[38;5;28;01melse\u001b[39;00m backward_fn\n\u001b[0;32m--> 253\u001b[0m \u001b[38;5;28;01mreturn\u001b[39;00m \u001b[43muser_fn\u001b[49m\u001b[43m(\u001b[49m\u001b[38;5;28;43mself\u001b[39;49m\u001b[43m,\u001b[49m\u001b[43m \u001b[49m\u001b[38;5;241;43m*\u001b[39;49m\u001b[43margs\u001b[49m\u001b[43m)\u001b[49m\n",
      "File \u001b[0;32m/global/cfs/cdirs/m3443/usr/ahuang/het_gnn/envs/qc/lib/python3.8/site-packages/qiskit_machine_learning/connectors/torch_connector.py:171\u001b[0m, in \u001b[0;36mTorchConnector._TorchNNFunction.backward\u001b[0;34m(ctx, grad_output)\u001b[0m\n\u001b[1;32m    168\u001b[0m     grad_output \u001b[38;5;241m=\u001b[39m grad_output\u001b[38;5;241m.\u001b[39mview(\u001b[38;5;241m1\u001b[39m, \u001b[38;5;241m-\u001b[39m\u001b[38;5;241m1\u001b[39m)\n\u001b[1;32m    170\u001b[0m \u001b[38;5;66;03m# evaluate QNN gradient\u001b[39;00m\n\u001b[0;32m--> 171\u001b[0m input_grad, weights_grad \u001b[38;5;241m=\u001b[39m \u001b[43mneural_network\u001b[49m\u001b[38;5;241;43m.\u001b[39;49m\u001b[43mbackward\u001b[49m\u001b[43m(\u001b[49m\n\u001b[1;32m    172\u001b[0m \u001b[43m    \u001b[49m\u001b[43minput_data\u001b[49m\u001b[38;5;241;43m.\u001b[39;49m\u001b[43mdetach\u001b[49m\u001b[43m(\u001b[49m\u001b[43m)\u001b[49m\u001b[38;5;241;43m.\u001b[39;49m\u001b[43mcpu\u001b[49m\u001b[43m(\u001b[49m\u001b[43m)\u001b[49m\u001b[38;5;241;43m.\u001b[39;49m\u001b[43mnumpy\u001b[49m\u001b[43m(\u001b[49m\u001b[43m)\u001b[49m\u001b[43m,\u001b[49m\u001b[43m \u001b[49m\u001b[43mweights\u001b[49m\u001b[38;5;241;43m.\u001b[39;49m\u001b[43mdetach\u001b[49m\u001b[43m(\u001b[49m\u001b[43m)\u001b[49m\u001b[38;5;241;43m.\u001b[39;49m\u001b[43mcpu\u001b[49m\u001b[43m(\u001b[49m\u001b[43m)\u001b[49m\u001b[38;5;241;43m.\u001b[39;49m\u001b[43mnumpy\u001b[49m\u001b[43m(\u001b[49m\u001b[43m)\u001b[49m\n\u001b[1;32m    173\u001b[0m \u001b[43m\u001b[49m\u001b[43m)\u001b[49m\n\u001b[1;32m    174\u001b[0m \u001b[38;5;28;01mif\u001b[39;00m input_grad \u001b[38;5;129;01mis\u001b[39;00m \u001b[38;5;129;01mnot\u001b[39;00m \u001b[38;5;28;01mNone\u001b[39;00m:\n\u001b[1;32m    175\u001b[0m     \u001b[38;5;28;01mif\u001b[39;00m ctx\u001b[38;5;241m.\u001b[39msparse:\n",
      "File \u001b[0;32m/global/cfs/cdirs/m3443/usr/ahuang/het_gnn/envs/qc/lib/python3.8/site-packages/qiskit_machine_learning/neural_networks/neural_network.py:254\u001b[0m, in \u001b[0;36mNeuralNetwork.backward\u001b[0;34m(self, input_data, weights)\u001b[0m\n\u001b[1;32m    252\u001b[0m input_, shape \u001b[38;5;241m=\u001b[39m \u001b[38;5;28mself\u001b[39m\u001b[38;5;241m.\u001b[39m_validate_input(input_data)\n\u001b[1;32m    253\u001b[0m weights_ \u001b[38;5;241m=\u001b[39m \u001b[38;5;28mself\u001b[39m\u001b[38;5;241m.\u001b[39m_validate_weights(weights)\n\u001b[0;32m--> 254\u001b[0m input_grad, weight_grad \u001b[38;5;241m=\u001b[39m \u001b[38;5;28;43mself\u001b[39;49m\u001b[38;5;241;43m.\u001b[39;49m\u001b[43m_backward\u001b[49m\u001b[43m(\u001b[49m\u001b[43minput_\u001b[49m\u001b[43m,\u001b[49m\u001b[43m \u001b[49m\u001b[43mweights_\u001b[49m\u001b[43m)\u001b[49m\n\u001b[1;32m    256\u001b[0m input_grad_reshaped, weight_grad_reshaped \u001b[38;5;241m=\u001b[39m \u001b[38;5;28mself\u001b[39m\u001b[38;5;241m.\u001b[39m_validate_backward_output(\n\u001b[1;32m    257\u001b[0m     input_grad, weight_grad, shape\n\u001b[1;32m    258\u001b[0m )\n\u001b[1;32m    260\u001b[0m \u001b[38;5;28;01mreturn\u001b[39;00m input_grad_reshaped, weight_grad_reshaped\n",
      "File \u001b[0;32m/global/cfs/cdirs/m3443/usr/ahuang/het_gnn/envs/qc/lib/python3.8/site-packages/qiskit_machine_learning/neural_networks/estimator_qnn.py:241\u001b[0m, in \u001b[0;36mEstimatorQNN._backward\u001b[0;34m(self, input_data, weights)\u001b[0m\n\u001b[1;32m    239\u001b[0m \u001b[38;5;28;01melif\u001b[39;00m \u001b[38;5;28mlen\u001b[39m(parameter_values[\u001b[38;5;241m0\u001b[39m]) \u001b[38;5;241m>\u001b[39m \u001b[38;5;28mself\u001b[39m\u001b[38;5;241m.\u001b[39m_num_inputs:\n\u001b[1;32m    240\u001b[0m     params \u001b[38;5;241m=\u001b[39m [\u001b[38;5;28mself\u001b[39m\u001b[38;5;241m.\u001b[39m_circuit\u001b[38;5;241m.\u001b[39mparameters[\u001b[38;5;28mself\u001b[39m\u001b[38;5;241m.\u001b[39m_num_inputs :]] \u001b[38;5;241m*\u001b[39m num_circuits\n\u001b[0;32m--> 241\u001b[0m     job \u001b[38;5;241m=\u001b[39m \u001b[38;5;28;43mself\u001b[39;49m\u001b[38;5;241;43m.\u001b[39;49m\u001b[43mgradient\u001b[49m\u001b[38;5;241;43m.\u001b[39;49m\u001b[43mrun\u001b[49m\u001b[43m(\u001b[49m\u001b[43mcircuits\u001b[49m\u001b[43m,\u001b[49m\u001b[43m \u001b[49m\u001b[43mobservables\u001b[49m\u001b[43m,\u001b[49m\u001b[43m \u001b[49m\u001b[43mparam_values\u001b[49m\u001b[43m,\u001b[49m\u001b[43m \u001b[49m\u001b[43mparameters\u001b[49m\u001b[38;5;241;43m=\u001b[39;49m\u001b[43mparams\u001b[49m\u001b[43m)\u001b[49m\n\u001b[1;32m    243\u001b[0m \u001b[38;5;28;01mif\u001b[39;00m job \u001b[38;5;129;01mis\u001b[39;00m \u001b[38;5;129;01mnot\u001b[39;00m \u001b[38;5;28;01mNone\u001b[39;00m:\n\u001b[1;32m    244\u001b[0m     \u001b[38;5;28;01mtry\u001b[39;00m:\n",
      "File \u001b[0;32m/global/cfs/cdirs/m3443/usr/ahuang/het_gnn/envs/qc/lib/python3.8/site-packages/qiskit/algorithms/gradients/base_estimator_gradient.py:149\u001b[0m, in \u001b[0;36mBaseEstimatorGradient.run\u001b[0;34m(self, circuits, observables, parameter_values, parameters, **options)\u001b[0m\n\u001b[1;32m    145\u001b[0m \u001b[38;5;66;03m# Run the job.\u001b[39;00m\n\u001b[1;32m    146\u001b[0m job \u001b[38;5;241m=\u001b[39m AlgorithmJob(\n\u001b[1;32m    147\u001b[0m     \u001b[38;5;28mself\u001b[39m\u001b[38;5;241m.\u001b[39m_run, circuits, observables, parameter_values, parameter_sets, \u001b[38;5;241m*\u001b[39m\u001b[38;5;241m*\u001b[39mopts\u001b[38;5;241m.\u001b[39m\u001b[38;5;18m__dict__\u001b[39m\n\u001b[1;32m    148\u001b[0m )\n\u001b[0;32m--> 149\u001b[0m \u001b[43mjob\u001b[49m\u001b[38;5;241;43m.\u001b[39;49m\u001b[43msubmit\u001b[49m\u001b[43m(\u001b[49m\u001b[43m)\u001b[49m\n\u001b[1;32m    150\u001b[0m \u001b[38;5;28;01mreturn\u001b[39;00m job\n",
      "File \u001b[0;32m/global/cfs/cdirs/m3443/usr/ahuang/het_gnn/envs/qc/lib/python3.8/site-packages/qiskit/primitives/primitive_job.py:44\u001b[0m, in \u001b[0;36mPrimitiveJob.submit\u001b[0;34m(self)\u001b[0m\n\u001b[1;32m     41\u001b[0m     \u001b[38;5;28;01mraise\u001b[39;00m JobError(\u001b[38;5;124m\"\u001b[39m\u001b[38;5;124mPrimitive job has already been submitted.\u001b[39m\u001b[38;5;124m\"\u001b[39m)\n\u001b[1;32m     43\u001b[0m \u001b[38;5;28;01mwith\u001b[39;00m ThreadPoolExecutor(max_workers\u001b[38;5;241m=\u001b[39m\u001b[38;5;241m1\u001b[39m) \u001b[38;5;28;01mas\u001b[39;00m executor:\n\u001b[0;32m---> 44\u001b[0m     future \u001b[38;5;241m=\u001b[39m executor\u001b[38;5;241m.\u001b[39msubmit(\u001b[38;5;28mself\u001b[39m\u001b[38;5;241m.\u001b[39m_function, \u001b[38;5;241m*\u001b[39m\u001b[38;5;28mself\u001b[39m\u001b[38;5;241m.\u001b[39m_args, \u001b[38;5;241m*\u001b[39m\u001b[38;5;241m*\u001b[39m\u001b[38;5;28mself\u001b[39m\u001b[38;5;241m.\u001b[39m_kwargs)\n\u001b[1;32m     45\u001b[0m \u001b[38;5;28mself\u001b[39m\u001b[38;5;241m.\u001b[39m_future \u001b[38;5;241m=\u001b[39m future\n",
      "File \u001b[0;32m/global/cfs/cdirs/m3443/usr/ahuang/het_gnn/envs/qc/lib/python3.8/concurrent/futures/_base.py:644\u001b[0m, in \u001b[0;36mExecutor.__exit__\u001b[0;34m(self, exc_type, exc_val, exc_tb)\u001b[0m\n\u001b[1;32m    643\u001b[0m \u001b[38;5;28;01mdef\u001b[39;00m \u001b[38;5;21m__exit__\u001b[39m(\u001b[38;5;28mself\u001b[39m, exc_type, exc_val, exc_tb):\n\u001b[0;32m--> 644\u001b[0m     \u001b[38;5;28;43mself\u001b[39;49m\u001b[38;5;241;43m.\u001b[39;49m\u001b[43mshutdown\u001b[49m\u001b[43m(\u001b[49m\u001b[43mwait\u001b[49m\u001b[38;5;241;43m=\u001b[39;49m\u001b[38;5;28;43;01mTrue\u001b[39;49;00m\u001b[43m)\u001b[49m\n\u001b[1;32m    645\u001b[0m     \u001b[38;5;28;01mreturn\u001b[39;00m \u001b[38;5;28;01mFalse\u001b[39;00m\n",
      "File \u001b[0;32m/global/cfs/cdirs/m3443/usr/ahuang/het_gnn/envs/qc/lib/python3.8/concurrent/futures/thread.py:236\u001b[0m, in \u001b[0;36mThreadPoolExecutor.shutdown\u001b[0;34m(self, wait)\u001b[0m\n\u001b[1;32m    234\u001b[0m \u001b[38;5;28;01mif\u001b[39;00m wait:\n\u001b[1;32m    235\u001b[0m     \u001b[38;5;28;01mfor\u001b[39;00m t \u001b[38;5;129;01min\u001b[39;00m \u001b[38;5;28mself\u001b[39m\u001b[38;5;241m.\u001b[39m_threads:\n\u001b[0;32m--> 236\u001b[0m         \u001b[43mt\u001b[49m\u001b[38;5;241;43m.\u001b[39;49m\u001b[43mjoin\u001b[49m\u001b[43m(\u001b[49m\u001b[43m)\u001b[49m\n",
      "File \u001b[0;32m/global/cfs/cdirs/m3443/usr/ahuang/het_gnn/envs/qc/lib/python3.8/threading.py:1011\u001b[0m, in \u001b[0;36mThread.join\u001b[0;34m(self, timeout)\u001b[0m\n\u001b[1;32m   1008\u001b[0m     \u001b[38;5;28;01mraise\u001b[39;00m \u001b[38;5;167;01mRuntimeError\u001b[39;00m(\u001b[38;5;124m\"\u001b[39m\u001b[38;5;124mcannot join current thread\u001b[39m\u001b[38;5;124m\"\u001b[39m)\n\u001b[1;32m   1010\u001b[0m \u001b[38;5;28;01mif\u001b[39;00m timeout \u001b[38;5;129;01mis\u001b[39;00m \u001b[38;5;28;01mNone\u001b[39;00m:\n\u001b[0;32m-> 1011\u001b[0m     \u001b[38;5;28;43mself\u001b[39;49m\u001b[38;5;241;43m.\u001b[39;49m\u001b[43m_wait_for_tstate_lock\u001b[49m\u001b[43m(\u001b[49m\u001b[43m)\u001b[49m\n\u001b[1;32m   1012\u001b[0m \u001b[38;5;28;01melse\u001b[39;00m:\n\u001b[1;32m   1013\u001b[0m     \u001b[38;5;66;03m# the behavior of a negative timeout isn't documented, but\u001b[39;00m\n\u001b[1;32m   1014\u001b[0m     \u001b[38;5;66;03m# historically .join(timeout=x) for x<0 has acted as if timeout=0\u001b[39;00m\n\u001b[1;32m   1015\u001b[0m     \u001b[38;5;28mself\u001b[39m\u001b[38;5;241m.\u001b[39m_wait_for_tstate_lock(timeout\u001b[38;5;241m=\u001b[39m\u001b[38;5;28mmax\u001b[39m(timeout, \u001b[38;5;241m0\u001b[39m))\n",
      "File \u001b[0;32m/global/cfs/cdirs/m3443/usr/ahuang/het_gnn/envs/qc/lib/python3.8/threading.py:1027\u001b[0m, in \u001b[0;36mThread._wait_for_tstate_lock\u001b[0;34m(self, block, timeout)\u001b[0m\n\u001b[1;32m   1025\u001b[0m \u001b[38;5;28;01mif\u001b[39;00m lock \u001b[38;5;129;01mis\u001b[39;00m \u001b[38;5;28;01mNone\u001b[39;00m:  \u001b[38;5;66;03m# already determined that the C code is done\u001b[39;00m\n\u001b[1;32m   1026\u001b[0m     \u001b[38;5;28;01massert\u001b[39;00m \u001b[38;5;28mself\u001b[39m\u001b[38;5;241m.\u001b[39m_is_stopped\n\u001b[0;32m-> 1027\u001b[0m \u001b[38;5;28;01melif\u001b[39;00m \u001b[43mlock\u001b[49m\u001b[38;5;241;43m.\u001b[39;49m\u001b[43macquire\u001b[49m\u001b[43m(\u001b[49m\u001b[43mblock\u001b[49m\u001b[43m,\u001b[49m\u001b[43m \u001b[49m\u001b[43mtimeout\u001b[49m\u001b[43m)\u001b[49m:\n\u001b[1;32m   1028\u001b[0m     lock\u001b[38;5;241m.\u001b[39mrelease()\n\u001b[1;32m   1029\u001b[0m     \u001b[38;5;28mself\u001b[39m\u001b[38;5;241m.\u001b[39m_stop()\n",
      "\u001b[0;31mKeyboardInterrupt\u001b[0m: "
     ]
    }
   ],
   "source": [
    "trainer.train(train_loader, val_loader)"
   ]
  },
  {
   "cell_type": "code",
   "execution_count": 60,
   "id": "29ea63a6-dcb7-475c-b246-560678a6c471",
   "metadata": {},
   "outputs": [
    {
     "data": {
      "image/png": "[encoded data removed]",
      "text/plain": [
       "<Figure size 640x480 with 1 Axes>"
      ]
     },
     "metadata": {},
     "output_type": "display_data"
    },
    {
     "data": {
      "image/png": "[encoded data removed]",
      "text/plain": [
       "<Figure size 640x480 with 1 Axes>"
      ]
     },
     "metadata": {},
     "output_type": "display_data"
    }
   ],
   "source": [
    "trainer.plot_metric('val_step', 'acc', 'Step', 'Accuracy', use_grid=True, label_max=True, title='Hybrid VQC')\n",
    "trainer.plot_metric('val_epoch', 'val_loss', 'Epoch', 'Loss', use_grid=True, label_min=True, title='Hybrid VQC')"
   ]
  },
  {
   "cell_type": "code",
   "execution_count": null,
   "id": "7c3963a3-aca5-41ce-b148-ffd9609ef8c4",
   "metadata": {},
   "outputs": [],
   "source": []
  }
 ],
 "metadata": {
  "kernelspec": {
   "display_name": "QC",
   "language": "python",
   "name": "qc"
  },
  "language_info": {
   "codemirror_mode": {
    "name": "ipython",
    "version": 3
   },
   "file_extension": ".py",
   "mimetype": "text/x-python",
   "name": "python",
   "nbconvert_exporter": "python",
   "pygments_lexer": "ipython3",
   "version": "3.8.16"
  }
 },
 "nbformat": 4,
 "nbformat_minor": 5
}
