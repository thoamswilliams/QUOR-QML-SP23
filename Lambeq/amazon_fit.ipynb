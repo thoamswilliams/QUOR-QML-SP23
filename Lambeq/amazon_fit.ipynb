{
 "cells": [
  {
   "cell_type": "code",
   "execution_count": 1,
   "id": "a0bb36ce",
   "metadata": {},
   "outputs": [],
   "source": [
    "# Rewriting amazon dataset\n",
    "def less_than_8(string):\n",
    "    if len(string) < 8:\n",
    "        return True\n",
    "    else:\n",
    "        return False\n",
    "\n",
    "def other_read_data(filename):\n",
    "    labels, sentences = [], []\n",
    "    with open(filename) as f:\n",
    "        for line in f:\n",
    "            sentence = line[:].strip()\n",
    "            if less_than_8(sentence.split()):\n",
    "                sentences.append(sentence[:-2])\n",
    "                t = int(sentence[-1])\n",
    "                labels.append([t, 1-t])\n",
    "    return labels, sentences\n",
    "\n",
    "train_labels, train_data = other_read_data('amazon_train_fr.txt')"
   ]
  },
  {
   "cell_type": "code",
   "execution_count": 54,
   "id": "1f4b0341",
   "metadata": {},
   "outputs": [],
   "source": [
    "import pandas as pd\n",
    "\n",
    "mydf = pd.read_csv(\"amazon_train.csv\")\n",
    "train_data = mydf.iloc[:, 0]\n",
    "train_data = list(train_data)\n",
    "train_labels1 = mydf.iloc[:, 1]\n",
    "train_labels = []\n",
    "for i in range(len(train_labels1)):\n",
    "    train_labels.append([train_labels1[i], 1-train_labels1[i]])\n",
    "train_labels = list(train_labels)\n",
    "    \n",
    "newdf = pd.read_csv(\"amazon_test.csv\")\n",
    "val_data = newdf.iloc[:, 0]\n",
    "val_data = list(val_data)\n",
    "val_labels1 = newdf.iloc[:, 1]\n",
    "val_labels = []\n",
    "for i in range(len(val_labels1)):\n",
    "    val_labels.append([val_labels1[i], 1-val_labels1[i]])\n",
    "val_labels = list(val_labels)"
   ]
  },
  {
   "cell_type": "code",
   "execution_count": 55,
   "id": "4a55470d",
   "metadata": {},
   "outputs": [],
   "source": [
    "import os\n",
    "import warnings\n",
    "\n",
    "warnings.filterwarnings('ignore')\n",
    "os.environ['TOKENIZERS_PARALLELISM'] = 'true'\n",
    "\n",
    "\n",
    "import numpy as np\n",
    "\n",
    "BATCH_SIZE = 30\n",
    "EPOCHS = 50\n",
    "SEED = 2"
   ]
  },
  {
   "cell_type": "markdown",
   "id": "d1d41347",
   "metadata": {},
   "source": [
    "test_labels, test_data = other_read_data('amazon_test_fr.txt')"
   ]
  },
  {
   "cell_type": "code",
   "execution_count": null,
   "id": "d7324838",
   "metadata": {},
   "outputs": [
    {
     "name": "stderr",
     "output_type": "stream",
     "text": [
      "Tagging sentences.\n",
      "Parsing tagged sentences.\n",
      "Turning parse trees to diagrams.\n"
     ]
    }
   ],
   "source": [
    "from lambeq import BobcatParser\n",
    "\n",
    "parser = BobcatParser(root_cats=('NP', 'N'), verbose='text')\n",
    "\n",
    "raw_train_diagrams = parser.sentences2diagrams(train_data, suppress_exceptions=True)\n",
    "raw_val_diagrams = parser.sentences2diagrams(val_data, suppress_exceptions=True)"
   ]
  },
  {
   "cell_type": "code",
   "execution_count": null,
   "id": "557b11d2",
   "metadata": {},
   "outputs": [],
   "source": [
    "train_diagrams = [\n",
    "    diagram.normal_form()\n",
    "    for diagram in raw_train_diagrams if diagram is not None\n",
    "]\n",
    "val_diagrams = [\n",
    "    diagram.normal_form()\n",
    "    for diagram in raw_val_diagrams if diagram is not None\n",
    "]\n",
    "\n",
    "train_labels = [\n",
    "    label for (diagram, label)\n",
    "    in zip(raw_train_diagrams, train_labels)\n",
    "    if diagram is not None]\n",
    "val_labels = [\n",
    "    label for (diagram, label)\n",
    "    in zip(raw_val_diagrams, val_labels)\n",
    "    if diagram is not None\n",
    "]"
   ]
  },
  {
   "cell_type": "code",
   "execution_count": null,
   "id": "662a777b",
   "metadata": {},
   "outputs": [],
   "source": [
    "from lambeq import AtomicType, IQPAnsatz, remove_cups\n",
    "\n",
    "ansatz = IQPAnsatz({AtomicType.NOUN: 1, AtomicType.SENTENCE: 0},\n",
    "                   n_layers=1, n_single_qubit_params=1)\n",
    "\n",
    "train_circuits = []\n",
    "trainlabels = []\n",
    "for i in range(len(train_diagrams)):\n",
    "    try:\n",
    "        mycircuit = ansatz(remove_cups(train_diagrams[i]))\n",
    "        train_circuits.append(mycircuit)\n",
    "        trainlabels.append(train_labels[i])\n",
    "    except ValueError:\n",
    "        print(train_data[i])\n",
    "    except KeyError:\n",
    "        print(train_data[i])\n",
    "print(\"END OF TRAINING SENTENCES\")\n",
    "val_circuits = []\n",
    "vallabels = []\n",
    "for i in range(len(val_diagrams)):\n",
    "    try:\n",
    "        mycircuit = ansatz(remove_cups(val_diagrams[i]))\n",
    "        val_circuits.append(mycircuit)\n",
    "        vallabels.append(val_labels[i])\n",
    "    except ValueError:\n",
    "        print(val_data[i])\n",
    "        print(val_labels[i])\n",
    "    except KeyError:\n",
    "        print(val_data[i])\n",
    "        print(val_labels[i])"
   ]
  },
  {
   "cell_type": "code",
   "execution_count": null,
   "id": "8e2b5511",
   "metadata": {},
   "outputs": [],
   "source": [
    "from pytket.extensions.qiskit import AerBackend\n",
    "from lambeq import TketModel\n",
    "\n",
    "all_circuits = train_circuits + val_circuits\n",
    "\n",
    "backend = AerBackend()\n",
    "backend_config = {\n",
    "    'backend': backend,\n",
    "    'compilation': backend.default_compilation_pass(2),\n",
    "    'shots': 8192\n",
    "}\n",
    "\n",
    "model = TketModel.from_diagrams(all_circuits, backend_config=backend_config)"
   ]
  },
  {
   "cell_type": "code",
   "execution_count": null,
   "id": "47b9aadb",
   "metadata": {},
   "outputs": [],
   "source": [
    "from lambeq import BinaryCrossEntropyLoss\n",
    "\n",
    "# Using the builtin binary cross-entropy error from lambeq\n",
    "bce = BinaryCrossEntropyLoss()\n",
    "\n",
    "acc = lambda y_hat, y: np.sum(np.round(y_hat) == y) / len(y) / 2  # half due to double-counting\n",
    "eval_metrics = {\"acc\": acc}"
   ]
  },
  {
   "cell_type": "code",
   "execution_count": null,
   "id": "a8619c55",
   "metadata": {},
   "outputs": [],
   "source": [
    "from lambeq import QuantumTrainer, SPSAOptimizer\n",
    "\n",
    "trainer = QuantumTrainer(\n",
    "    model,\n",
    "    loss_function=bce,\n",
    "    epochs=50,\n",
    "    optimizer=SPSAOptimizer,\n",
    "    optim_hyperparams={'a': 0.05, 'c': 0.06, 'A':0.01*EPOCHS},\n",
    "    evaluate_functions=eval_metrics,\n",
    "    evaluate_on_train=True,\n",
    "    verbose = 'text',\n",
    "    seed=0\n",
    ")"
   ]
  },
  {
   "cell_type": "code",
   "execution_count": null,
   "id": "231ee1e9",
   "metadata": {},
   "outputs": [],
   "source": [
    "from lambeq import Dataset\n",
    "\n",
    "train_dataset = Dataset(\n",
    "            train_circuits,\n",
    "            trainlabels,\n",
    "            batch_size=BATCH_SIZE)\n",
    "\n",
    "val_dataset = Dataset(val_circuits, vallabels, shuffle=False)"
   ]
  },
  {
   "cell_type": "code",
   "execution_count": null,
   "id": "e98a1cbc",
   "metadata": {},
   "outputs": [],
   "source": [
    "trainer.fit(train_dataset, val_dataset, evaluation_step=1, logging_step=5)"
   ]
  },
  {
   "cell_type": "code",
   "execution_count": null,
   "id": "80f315ba",
   "metadata": {},
   "outputs": [],
   "source": [
    "import matplotlib.pyplot as plt\n",
    "\n",
    "fig, ((ax_tl, ax_tr), (ax_bl, ax_br)) = plt.subplots(2, 2, sharex=True, sharey='row', figsize=(10, 6))\n",
    "ax_tl.set_title('Training set')\n",
    "ax_tr.set_title('Development set')\n",
    "ax_bl.set_xlabel('Iterations')\n",
    "ax_br.set_xlabel('Iterations')\n",
    "ax_bl.set_ylabel('Accuracy')\n",
    "ax_tl.set_ylabel('Loss')\n",
    "\n",
    "colours = iter(plt.rcParams['axes.prop_cycle'].by_key()['color'])\n",
    "ax_tl.plot(trainer.train_epoch_costs[::10], color=next(colours))\n",
    "ax_bl.plot(trainer.train_results['acc'][::10], color=next(colours))\n",
    "ax_tr.plot(trainer.val_costs[::10], color=next(colours))\n",
    "ax_br.plot(trainer.val_results['acc'][::10], color=next(colours))\n",
    "\n",
    "# print test accuracy\n",
    "test_acc = acc(model(val_circuits), val_labels)\n",
    "print('Validation accuracy:', test_acc.item())"
   ]
  },
  {
   "cell_type": "code",
   "execution_count": null,
   "id": "e3b65370",
   "metadata": {},
   "outputs": [],
   "source": []
  }
 ],
 "metadata": {
  "kernelspec": {
   "display_name": "Python 3 (ipykernel)",
   "language": "python",
   "name": "python3"
  },
  "language_info": {
   "codemirror_mode": {
    "name": "ipython",
    "version": 3
   },
   "file_extension": ".py",
   "mimetype": "text/x-python",
   "name": "python",
   "nbconvert_exporter": "python",
   "pygments_lexer": "ipython3",
   "version": "3.10.11"
  }
 },
 "nbformat": 4,
 "nbformat_minor": 5
}
