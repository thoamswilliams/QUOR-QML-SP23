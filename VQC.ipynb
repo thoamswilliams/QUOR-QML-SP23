{
 "cells": [
  {
   "cell_type": "code",
   "execution_count": null,
   "id": "8404c181-919e-4178-a5e2-dcf53edd1928",
   "metadata": {},
   "outputs": [],
   "source": [
    "#!pip install qiskit.aqua\n",
    "#!pip install qiskit==0.31.0\n",
    "# AH: For some reason qiskit has dependency issues so these packages need to be installed"
   ]
  },
  {
   "cell_type": "code",
   "execution_count": 64,
   "id": "eb6ce956-9a72-407f-97a5-ffe89e329df5",
   "metadata": {},
   "outputs": [],
   "source": [
    "import numpy as np\n",
    "import time\n",
    "\n",
    "from qiskit import BasicAer\n",
    "from qiskit.aqua import QuantumInstance, aqua_globals\n",
    "from qiskit.aqua.algorithms import VQC\n",
    "from qiskit.aqua.components.optimizers import SPSA, COBYLA\n",
    "from qiskit.circuit.library import TwoLocal, ZZFeatureMap, EfficientSU2\n",
    "from qiskit.aqua.utils import split_dataset_to_data_and_labels, map_label_to_class_name\n",
    "\n",
    "seed = 10599\n",
    "aqua_globals.random_seed = seed"
   ]
  },
  {
   "cell_type": "markdown",
   "id": "906592ab-2f10-4455-ad67-f499581187d7",
   "metadata": {},
   "source": [
    "## Loading Data"
   ]
  },
  {
   "cell_type": "code",
   "execution_count": 5,
   "id": "0b42887d-1bbf-40a7-826b-5fe46d48cd88",
   "metadata": {},
   "outputs": [],
   "source": [
    "data = np.load('data.npz')\n",
    "sentence = data['sentence']\n",
    "label = data['label']\n",
    "n_train = 300\n",
    "n_val = 200\n",
    "n_test = 100\n",
    "x_train, y_train = sentence[:n_train], label[:n_train]\n",
    "x_val, y_val = sentence[n_train:n_val+n_train], label[n_train:n_val+n_train]\n",
    "x_test, y_test = sentence[n_train+n_val:n_val+n_train+n_test], label[n_train+n_val:n_val+n_train+n_test]"
   ]
  },
  {
   "cell_type": "code",
   "execution_count": 30,
   "id": "fd25dd90-72e9-4f06-8f7f-7dbb7251c5cc",
   "metadata": {},
   "outputs": [
    {
     "data": {
      "text/plain": [
       "5"
      ]
     },
     "execution_count": 30,
     "metadata": {},
     "output_type": "execute_result"
    }
   ],
   "source": [
    "feature_dim = len(x_train[0])\n",
    "feature_dim"
   ]
  },
  {
   "cell_type": "code",
   "execution_count": 58,
   "id": "582047a0-cba2-4d5b-bb54-0f97061237eb",
   "metadata": {},
   "outputs": [],
   "source": [
    "def split_to_labels(data, label):\n",
    "    res = {}\n",
    "    for i in range(len(label)):\n",
    "        if label[i] not in res:\n",
    "            res[label[i]] = []\n",
    "        res[label[i]].append(data[i])\n",
    "    \n",
    "    return res"
   ]
  },
  {
   "cell_type": "code",
   "execution_count": 59,
   "id": "88f40b8e-a972-4f4d-aafc-7ef4ed7ac122",
   "metadata": {},
   "outputs": [],
   "source": [
    "training_input = split_to_labels(x_train, y_train)\n",
    "val_input = split_to_labels(x_val, y_val)"
   ]
  },
  {
   "cell_type": "markdown",
   "id": "a0c7294f-888d-467c-afc8-48258846acd6",
   "metadata": {},
   "source": [
    "## Constructing Model"
   ]
  },
  {
   "cell_type": "code",
   "execution_count": 60,
   "id": "43d65b00-f637-494f-8ec4-1dd77964c97c",
   "metadata": {},
   "outputs": [],
   "source": [
    "# Config\n",
    "maximizing_steps = 4\n",
    "encoding_repetition = 1\n",
    "model_repetition = 1\n",
    "simulator_shots = 1000"
   ]
  },
  {
   "cell_type": "code",
   "execution_count": 63,
   "id": "f1fca73c-8511-49eb-968c-424d185e83ed",
   "metadata": {},
   "outputs": [],
   "source": [
    "feature_map = ZZFeatureMap(feature_dimension=feature_dim, reps=encoding_repetition)\n",
    "optimizer = COBYLA(maxiter=maximizing_steps)\n",
    "var_form = EfficientSU2(feature_dim, reps=model_repetition)\n",
    "# TODO: append lambeq in front of vqc or replace feature_map\n",
    "vqc = VQC(optimizer, feature_map, var_form, training_input, val_input)\n",
    "\n",
    "backend = BasicAer.get_backend('qasm_simulator')\n",
    "quantum_instance = QuantumInstance(backend, shots=simulator_shots, seed_simulator=seed, seed_transpiler=seed)"
   ]
  },
  {
   "cell_type": "code",
   "execution_count": 72,
   "id": "351fc1ee-10b3-42d4-83c6-636348601ef4",
   "metadata": {
    "tags": []
   },
   "outputs": [
    {
     "data": {
      "text/plain": [
       "{'num_optimizer_evals': 4,\n",
       " 'min_val': 1.3149781021939224,\n",
       " 'opt_params': array([ 0.56818953,  2.69546501, -0.36402734, -1.31624338,  0.41340523,\n",
       "        -1.01974468, -0.24092391,  1.71842934,  0.26132169, -1.11700633,\n",
       "         1.33113277, -1.26841527,  0.59526398,  2.39563254,  1.21393098,\n",
       "         1.3333343 , -0.34251393, -1.95753451, -0.49437309, -1.79217551]),\n",
       " 'eval_time': 28.44213366508484,\n",
       " 'eval_count': 4,\n",
       " 'training_loss': 1.3149781021939224,\n",
       " 'testing_accuracy': 0.105,\n",
       " 'test_success_ratio': 0.105,\n",
       " 'testing_loss': 1.3796076479690071}"
      ]
     },
     "execution_count": 72,
     "metadata": {},
     "output_type": "execute_result"
    }
   ],
   "source": [
    "t0 = time.time()\n",
    "\n",
    "# Running the model\n",
    "vqc.run(quantum_instance)"
   ]
  },
  {
   "cell_type": "code",
   "execution_count": 73,
   "id": "36af5eca-358b-4bb5-8a82-397402db821c",
   "metadata": {},
   "outputs": [
    {
     "name": "stdout",
     "output_type": "stream",
     "text": [
      ">>> Task finished in 0.55 min\n"
     ]
    }
   ],
   "source": [
    "t1 = time.time()\n",
    "print(f\">>> Task finished in {abs(t1 - t0)/60:.2f} min\")"
   ]
  }
 ],
 "metadata": {
  "kernelspec": {
   "display_name": "QC",
   "language": "python",
   "name": "qc"
  },
  "language_info": {
   "codemirror_mode": {
    "name": "ipython",
    "version": 3
   },
   "file_extension": ".py",
   "mimetype": "text/x-python",
   "name": "python",
   "nbconvert_exporter": "python",
   "pygments_lexer": "ipython3",
   "version": "3.8.16"
  }
 },
 "nbformat": 4,
 "nbformat_minor": 5
}
