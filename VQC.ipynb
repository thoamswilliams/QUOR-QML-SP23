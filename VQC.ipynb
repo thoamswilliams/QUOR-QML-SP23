{
 "cells": [
  {
   "cell_type": "code",
   "execution_count": null,
   "id": "8404c181-919e-4178-a5e2-dcf53edd1928",
   "metadata": {},
   "outputs": [],
   "source": [
    "!pip install qiskit.aqua\n",
    "!pip install qiskit==0.31.0\n",
    "# AH: For some reason qiskit has dependency issues so these packages need to be installed"
   ]
  },
  {
   "cell_type": "code",
   "execution_count": 1,
   "id": "eb6ce956-9a72-407f-97a5-ffe89e329df5",
   "metadata": {},
   "outputs": [
    {
     "name": "stderr",
     "output_type": "stream",
     "text": [
      "/global/cfs/cdirs/m3443/usr/ahuang/het_gnn/envs/qc/lib/python3.8/site-packages/qiskit/aqua/__init__.py:86: DeprecationWarning: The package qiskit.aqua is deprecated. It was moved/refactored to qiskit-terra For more information see <https://github.com/Qiskit/qiskit-aqua/blob/main/README.md#migration-guide>\n",
      "  warn_package('aqua', 'qiskit-terra')\n",
      "/tmp/ipykernel_103076/2284249259.py:11: DeprecationWarning: The variable qiskit.aqua.aqua_globals is deprecated. It was moved/refactored to qiskit.utils.algorithm_globals (pip install qiskit-terra). For more information see <https://github.com/Qiskit/qiskit-aqua/blob/main/README.md#migration-guide>\n",
      "  aqua_globals.random_seed = seed\n"
     ]
    }
   ],
   "source": [
    "import numpy as np\n",
    "\n",
    "from qiskit import BasicAer\n",
    "from qiskit.aqua import QuantumInstance, aqua_globals\n",
    "from qiskit.aqua.algorithms import VQC\n",
    "from qiskit.aqua.components.optimizers import SPSA\n",
    "from qiskit.circuit.library import TwoLocal, ZZFeatureMap\n",
    "from qiskit.aqua.utils import split_dataset_to_data_and_labels, map_label_to_class_name\n",
    "\n",
    "seed = 10599\n",
    "aqua_globals.random_seed = seed"
   ]
  },
  {
   "cell_type": "code",
   "execution_count": 2,
   "id": "7f3a6e92-0215-4619-b9b1-cc6d21fdbe53",
   "metadata": {},
   "outputs": [
    {
     "name": "stderr",
     "output_type": "stream",
     "text": [
      "/global/cfs/cdirs/m3443/usr/ahuang/het_gnn/envs/qc/lib/python3.8/site-packages/qiskit/ml/__init__.py:40: DeprecationWarning: The package qiskit.ml is deprecated. It was moved/refactored to qiskit_machine_learning (pip install qiskit-machine-learning). For more information see <https://github.com/Qiskit/qiskit-aqua/blob/main/README.md#migration-guide>\n",
      "  warn_package('ml', 'qiskit_machine_learning', 'qiskit-machine-learning')\n"
     ]
    },
    {
     "data": {
      "image/png": "[encoded data removed]",
      "text/plain": [
       "<Figure size 640x480 with 1 Axes>"
      ]
     },
     "metadata": {},
     "output_type": "display_data"
    }
   ],
   "source": [
    "# AH: This is an example adapted from qiskit tutorial, we need to change this block to \n",
    "# lambeq & sentence inputs\n",
    "from qiskit.ml.datasets import ad_hoc_data, sample_ad_hoc_data\n",
    "\n",
    "feature_dim = 2 # AH: I believe this corresponds to num qubits\n",
    "sample_total, training_input, test_input, class_labels = ad_hoc_data(\n",
    "    training_size=5,\n",
    "    test_size=1,\n",
    "    n=feature_dim,\n",
    "    gap=0.3,\n",
    "    plot_data=True\n",
    ")\n",
    "extra_test_data = sample_ad_hoc_data(sample_total, 10, n=feature_dim)\n",
    "datapoints, class_to_label = split_dataset_to_data_and_labels(extra_test_data)"
   ]
  },
  {
   "cell_type": "code",
   "execution_count": 4,
   "id": "d481c691-c5f0-48c0-95dc-17507019f680",
   "metadata": {},
   "outputs": [
    {
     "data": {
      "text/plain": [
       "{'A': array([[3.83274304, 3.64424748],\n",
       "        [3.83274304, 3.0787608 ],\n",
       "        [5.46637122, 1.0681415 ],\n",
       "        [5.90619419, 4.52389342],\n",
       "        [0.31415927, 0.43982297]]),\n",
       " 'B': array([[2.76460154, 4.20973416],\n",
       "        [1.63362818, 6.09468975],\n",
       "        [2.89026524, 2.51327412],\n",
       "        [2.89026524, 0.18849556],\n",
       "        [0.62831853, 2.19911486]])}"
      ]
     },
     "execution_count": 4,
     "metadata": {},
     "output_type": "execute_result"
    }
   ],
   "source": [
    "training_input"
   ]
  },
  {
   "cell_type": "code",
   "execution_count": 6,
   "id": "f1fca73c-8511-49eb-968c-424d185e83ed",
   "metadata": {},
   "outputs": [
    {
     "data": {
      "text/plain": [
       "<qiskit.aqua.algorithms.classifiers.vqc.VQC at 0x14f77d324970>"
      ]
     },
     "metadata": {},
     "output_type": "display_data"
    }
   ],
   "source": [
    "feature_map = ZZFeatureMap(feature_dimension=feature_dim, reps=2)\n",
    "optimizer = SPSA(maxiter=40, c0=4.0, skip_calibration=True)\n",
    "var_form = TwoLocal(feature_dim, ['ry', 'rz'], 'cz', reps=3)\n",
    "# TODO: append lambeq in front of vqc or replace feature_map\n",
    "vqc = VQC(optimizer, feature_map, var_form, training_input, test_input, datapoints[0])\n",
    "\n",
    "backend = BasicAer.get_backend('qasm_simulator')\n",
    "quantum_instance = QuantumInstance(backend, shots=128, seed_simulator=seed, seed_transpiler=seed)\n",
    "\n",
    "display(vqc)\n",
    "#result = vqc.run(quantum_instance) # AH: this is slow, be cautious when running"
   ]
  },
  {
   "cell_type": "code",
   "execution_count": null,
   "id": "351fc1ee-10b3-42d4-83c6-636348601ef4",
   "metadata": {},
   "outputs": [],
   "source": []
  }
 ],
 "metadata": {
  "kernelspec": {
   "display_name": "QC",
   "language": "python",
   "name": "qc"
  },
  "language_info": {
   "codemirror_mode": {
    "name": "ipython",
    "version": 3
   },
   "file_extension": ".py",
   "mimetype": "text/x-python",
   "name": "python",
   "nbconvert_exporter": "python",
   "pygments_lexer": "ipython3",
   "version": "3.8.16"
  }
 },
 "nbformat": 4,
 "nbformat_minor": 5
}
